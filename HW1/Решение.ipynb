{
  "cells": [
    {
      "cell_type": "code",
      "execution_count": null,
      "metadata": {
        "id": "ixMsBg6m9ylD"
      },
      "outputs": [],
      "source": [
        "import numpy as np\n",
        "import imageio.v2 as imageio\n",
        "from scipy.spatial.distance import cdist\n",
        "import matplotlib.pyplot as plt"
      ]
    },
    {
      "cell_type": "markdown",
      "metadata": {
        "id": "fiEX_9mm9ylE",
        "tags": []
      },
      "source": [
        "# 1.\n",
        "### Подсчитать произведение ненулевых элементов на диагонали прямоугольной матрицы.\n",
        "Для X = np.array([[1, 0, 1], [2, 0, 2], [3, 0, 3], [4, 4, 4]]) ответ 3."
      ]
    },
    {
      "cell_type": "code",
      "execution_count": null,
      "metadata": {
        "id": "nrDxPtof9ylF"
      },
      "outputs": [],
      "source": [
        "X1 = np.random.randint(0, 1, (110, 100))"
      ]
    },
    {
      "cell_type": "code",
      "execution_count": null,
      "metadata": {
        "id": "iN0Fvevc9qrP"
      },
      "outputs": [],
      "source": [
        "X2 = np.random.randint(0, 1, (1000, 1100))"
      ]
    },
    {
      "cell_type": "code",
      "execution_count": null,
      "metadata": {
        "id": "ZGGb-O7n9qrP"
      },
      "outputs": [],
      "source": [
        "X3 = np.random.randint(0, 1, (10000, 11000))"
      ]
    },
    {
      "cell_type": "code",
      "execution_count": null,
      "metadata": {
        "id": "DTy0cFf09qrQ"
      },
      "outputs": [],
      "source": [
        "timings = np.zeros((3, 3))"
      ]
    },
    {
      "cell_type": "markdown",
      "metadata": {
        "id": "n8pPsvyY9ylF"
      },
      "source": [
        "## 1.1."
      ]
    },
    {
      "cell_type": "code",
      "execution_count": null,
      "metadata": {
        "id": "1dsa2kYv9qrQ",
        "outputId": "24659942-a367-4a95-ea2b-ca4e3dcf1430"
      },
      "outputs": [
        {
          "name": "stdout",
          "output_type": "stream",
          "text": [
            "20.3 µs ± 165 ns per loop (mean ± std. dev. of 7 runs, 10,000 loops each)\n"
          ]
        },
        {
          "data": {
            "text/plain": [
              "<TimeitResult : 20.3 µs ± 165 ns per loop (mean ± std. dev. of 7 runs, 10,000 loops each)>"
            ]
          },
          "execution_count": 8,
          "metadata": {},
          "output_type": "execute_result"
        }
      ],
      "source": [
        "%%timeit -o\n",
        "np.diag(X1).prod(where = np.diag(X1) != 0)"
      ]
    },
    {
      "cell_type": "code",
      "execution_count": null,
      "metadata": {
        "id": "gGACGpgY9qrS"
      },
      "outputs": [],
      "source": [
        "timings[0, 0] = _.average"
      ]
    },
    {
      "cell_type": "code",
      "execution_count": null,
      "metadata": {
        "id": "9klQRbxY9ylF",
        "outputId": "5fc8817f-38d3-4e6b-dbf3-ac3394a49188"
      },
      "outputs": [
        {
          "name": "stdout",
          "output_type": "stream",
          "text": [
            "24.1 µs ± 195 ns per loop (mean ± std. dev. of 7 runs, 10,000 loops each)\n"
          ]
        },
        {
          "data": {
            "text/plain": [
              "<TimeitResult : 24.1 µs ± 195 ns per loop (mean ± std. dev. of 7 runs, 10,000 loops each)>"
            ]
          },
          "execution_count": 10,
          "metadata": {},
          "output_type": "execute_result"
        }
      ],
      "source": [
        "%%timeit -o\n",
        "np.diag(X2).prod(where = np.diag(X2) != 0)"
      ]
    },
    {
      "cell_type": "code",
      "execution_count": null,
      "metadata": {
        "id": "uHdOCUeo9qrS"
      },
      "outputs": [],
      "source": [
        "timings[0, 1] = _.average"
      ]
    },
    {
      "cell_type": "code",
      "execution_count": null,
      "metadata": {
        "id": "q49E-4HZ9qrT",
        "outputId": "4bd2b06f-f465-43fd-e50c-3711de8c7667"
      },
      "outputs": [
        {
          "name": "stdout",
          "output_type": "stream",
          "text": [
            "79.2 µs ± 1.13 µs per loop (mean ± std. dev. of 7 runs, 10,000 loops each)\n"
          ]
        },
        {
          "data": {
            "text/plain": [
              "<TimeitResult : 79.2 µs ± 1.13 µs per loop (mean ± std. dev. of 7 runs, 10,000 loops each)>"
            ]
          },
          "execution_count": 12,
          "metadata": {},
          "output_type": "execute_result"
        }
      ],
      "source": [
        "%%timeit -o\n",
        "np.diag(X3).prod(where = np.diag(X3) != 0)"
      ]
    },
    {
      "cell_type": "code",
      "execution_count": null,
      "metadata": {
        "id": "z1pD_2nm9qrT"
      },
      "outputs": [],
      "source": [
        "timings[0, 2] = _.average"
      ]
    },
    {
      "cell_type": "markdown",
      "metadata": {
        "id": "Wo4YlxdF9ylG"
      },
      "source": [
        "## 1.2."
      ]
    },
    {
      "cell_type": "code",
      "execution_count": null,
      "metadata": {
        "id": "G2g-VJQ09ylG",
        "outputId": "b26c01fc-9e57-43d0-8ecc-83ce4e1b5982"
      },
      "outputs": [
        {
          "name": "stdout",
          "output_type": "stream",
          "text": [
            "34 µs ± 887 ns per loop (mean ± std. dev. of 7 runs, 10,000 loops each)\n"
          ]
        },
        {
          "data": {
            "text/plain": [
              "<TimeitResult : 34 µs ± 887 ns per loop (mean ± std. dev. of 7 runs, 10,000 loops each)>"
            ]
          },
          "execution_count": 14,
          "metadata": {},
          "output_type": "execute_result"
        }
      ],
      "source": [
        "%%timeit -o\n",
        "res = 1\n",
        "for i in range(min(X1.shape)):\n",
        "    if X1[i, i] != 0:\n",
        "        res *= X1[i, i]\n",
        "res"
      ]
    },
    {
      "cell_type": "code",
      "execution_count": null,
      "metadata": {
        "id": "e48Z67649qrU"
      },
      "outputs": [],
      "source": [
        "timings[1, 0] = _.average"
      ]
    },
    {
      "cell_type": "code",
      "execution_count": null,
      "metadata": {
        "outputId": "b26c01fc-9e57-43d0-8ecc-83ce4e1b5982",
        "id": "kHaFaRAi9qrU"
      },
      "outputs": [
        {
          "name": "stdout",
          "output_type": "stream",
          "text": [
            "353 µs ± 3.92 µs per loop (mean ± std. dev. of 7 runs, 1,000 loops each)\n"
          ]
        },
        {
          "data": {
            "text/plain": [
              "<TimeitResult : 353 µs ± 3.92 µs per loop (mean ± std. dev. of 7 runs, 1,000 loops each)>"
            ]
          },
          "execution_count": 16,
          "metadata": {},
          "output_type": "execute_result"
        }
      ],
      "source": [
        "%%timeit -o\n",
        "res = 1\n",
        "for i in range(min(X2.shape)):\n",
        "    if X2[i, i] != 0:\n",
        "        res *= X2[i, i]\n",
        "res"
      ]
    },
    {
      "cell_type": "code",
      "execution_count": null,
      "metadata": {
        "id": "UHzEv19F9qrV"
      },
      "outputs": [],
      "source": [
        "timings[1, 1] = _.average"
      ]
    },
    {
      "cell_type": "code",
      "execution_count": null,
      "metadata": {
        "outputId": "b26c01fc-9e57-43d0-8ecc-83ce4e1b5982",
        "id": "LjJOtZ4X9qrV"
      },
      "outputs": [
        {
          "name": "stdout",
          "output_type": "stream",
          "text": [
            "3.88 ms ± 269 µs per loop (mean ± std. dev. of 7 runs, 100 loops each)\n"
          ]
        },
        {
          "data": {
            "text/plain": [
              "<TimeitResult : 3.88 ms ± 269 µs per loop (mean ± std. dev. of 7 runs, 100 loops each)>"
            ]
          },
          "execution_count": 18,
          "metadata": {},
          "output_type": "execute_result"
        }
      ],
      "source": [
        "%%timeit -o\n",
        "res = 1\n",
        "for i in range(min(X3.shape)):\n",
        "    if X3[i, i] != 0:\n",
        "        res *= X3[i, i]\n",
        "res"
      ]
    },
    {
      "cell_type": "code",
      "execution_count": null,
      "metadata": {
        "id": "1yDGmACX9qrV"
      },
      "outputs": [],
      "source": [
        "timings[1, 2] = _.average"
      ]
    },
    {
      "cell_type": "markdown",
      "metadata": {
        "id": "lTXm8_M39ylG",
        "tags": []
      },
      "source": [
        "## 1.3."
      ]
    },
    {
      "cell_type": "code",
      "execution_count": null,
      "metadata": {
        "id": "D0fm_ide9ylG",
        "outputId": "1678bf60-70f1-4dd1-c6ef-29c48430a786"
      },
      "outputs": [
        {
          "name": "stdout",
          "output_type": "stream",
          "text": [
            "24.9 µs ± 448 ns per loop (mean ± std. dev. of 7 runs, 10,000 loops each)\n"
          ]
        },
        {
          "data": {
            "text/plain": [
              "<TimeitResult : 24.9 µs ± 448 ns per loop (mean ± std. dev. of 7 runs, 10,000 loops each)>"
            ]
          },
          "execution_count": 20,
          "metadata": {},
          "output_type": "execute_result"
        }
      ],
      "source": [
        "%%timeit -o\n",
        "res = 1\n",
        "for i in np.diag(X1):\n",
        "    if i != 0:\n",
        "        res *= i\n",
        "res"
      ]
    },
    {
      "cell_type": "code",
      "execution_count": null,
      "metadata": {
        "id": "ZN5N9-7Y9qrW"
      },
      "outputs": [],
      "source": [
        "timings[2, 0] = _.average"
      ]
    },
    {
      "cell_type": "code",
      "execution_count": null,
      "metadata": {
        "outputId": "1678bf60-70f1-4dd1-c6ef-29c48430a786",
        "id": "x1n4_2ij9qrW"
      },
      "outputs": [
        {
          "name": "stdout",
          "output_type": "stream",
          "text": [
            "185 µs ± 762 ns per loop (mean ± std. dev. of 7 runs, 10,000 loops each)\n"
          ]
        },
        {
          "data": {
            "text/plain": [
              "<TimeitResult : 185 µs ± 762 ns per loop (mean ± std. dev. of 7 runs, 10,000 loops each)>"
            ]
          },
          "execution_count": 22,
          "metadata": {},
          "output_type": "execute_result"
        }
      ],
      "source": [
        "%%timeit -o\n",
        "res = 1\n",
        "for i in np.diag(X2):\n",
        "    if i != 0:\n",
        "        res *= i\n",
        "res"
      ]
    },
    {
      "cell_type": "code",
      "execution_count": null,
      "metadata": {
        "id": "nch08O5M9qrW"
      },
      "outputs": [],
      "source": [
        "timings[2, 1] = _.average"
      ]
    },
    {
      "cell_type": "code",
      "execution_count": null,
      "metadata": {
        "outputId": "1678bf60-70f1-4dd1-c6ef-29c48430a786",
        "id": "-G0bBcXw9qrW"
      },
      "outputs": [
        {
          "name": "stdout",
          "output_type": "stream",
          "text": [
            "1.8 ms ± 30.4 µs per loop (mean ± std. dev. of 7 runs, 1,000 loops each)\n"
          ]
        },
        {
          "data": {
            "text/plain": [
              "<TimeitResult : 1.8 ms ± 30.4 µs per loop (mean ± std. dev. of 7 runs, 1,000 loops each)>"
            ]
          },
          "execution_count": 24,
          "metadata": {},
          "output_type": "execute_result"
        }
      ],
      "source": [
        "%%timeit -o\n",
        "res = 1\n",
        "for i in np.diag(X3):\n",
        "    if i != 0:\n",
        "        res *= i\n",
        "res"
      ]
    },
    {
      "cell_type": "code",
      "execution_count": null,
      "metadata": {
        "id": "gG-ojWqt9qrX"
      },
      "outputs": [],
      "source": [
        "timings[2, 2] = _.average"
      ]
    },
    {
      "cell_type": "markdown",
      "metadata": {
        "id": "RuvNwfGv9qrX"
      },
      "source": [
        "## Графики времени выполнения"
      ]
    },
    {
      "cell_type": "code",
      "execution_count": null,
      "metadata": {
        "collapsed": true,
        "jupyter": {
          "outputs_hidden": true
        },
        "tags": [],
        "id": "gWnxlouY9qrX",
        "outputId": "6e9cd59e-b450-418d-c45f-6c1319542abb"
      },
      "outputs": [
        {
          "data": {
            "text/plain": [
              "array([[2.02885714e-05, 2.41142857e-05, 7.92257143e-05],\n",
              "       [3.40257143e-05, 3.53471428e-04, 3.88271429e-03],\n",
              "       [2.48642857e-05, 1.85008571e-04, 1.79762857e-03]])"
            ]
          },
          "execution_count": 26,
          "metadata": {},
          "output_type": "execute_result"
        }
      ],
      "source": [
        "timings"
      ]
    },
    {
      "cell_type": "code",
      "execution_count": null,
      "metadata": {
        "id": "HVmf8l2V9qrX",
        "outputId": "8eaceaaa-99eb-45ad-8ff8-922e429de928"
      },
      "outputs": [
        {
          "data": {
            "text/plain": [
              "<Figure size 640x480 with 0 Axes>"
            ]
          },
          "metadata": {},
          "output_type": "display_data"
        },
        {
          "data": {
            "image/png": "[encoded data removed]",
            "text/plain": [
              "<Figure size 1200x1000 with 3 Axes>"
            ]
          },
          "metadata": {},
          "output_type": "display_data"
        }
      ],
      "source": [
        "plt.figure()\n",
        "\n",
        "plt.figure(figsize=(12, 10))\n",
        "for category_num in range(1, 4):\n",
        "    plt.subplot(4, 4, category_num)\n",
        "    plt.bar(range(1, 4), timings[:, category_num-1])\n",
        "    plt.ylabel(\"Время выполнения, с\")\n",
        "    plt.xlabel(\"Способ выполнения\")\n",
        "    plt.title('Набор {}'.format(category_num))\n",
        "\n",
        "plt.tight_layout()\n",
        "plt.show()"
      ]
    },
    {
      "cell_type": "markdown",
      "metadata": {
        "id": "9anXPp-j9ylH",
        "tags": []
      },
      "source": [
        "# 2.\n",
        "### Дана матрица X и два вектора одинаковой длины i и j. Построить вектор np.array([X[i[0], j[0]], X[i[1], j[1]], ... , X[i[N-1], j[N-1]]])."
      ]
    },
    {
      "cell_type": "code",
      "execution_count": null,
      "metadata": {
        "id": "rFcm5u749qrY"
      },
      "outputs": [],
      "source": [
        "timings = np.zeros((3, 3))"
      ]
    },
    {
      "cell_type": "code",
      "execution_count": null,
      "metadata": {
        "id": "A-YOw-Ls9ylH"
      },
      "outputs": [],
      "source": [
        "X1 = np.random.randint(0, 1, (100, 100))\n",
        "X2 = np.random.randint(0, 1, (1000, 1000))\n",
        "X3 = np.random.randint(0, 1, (10000, 10000))"
      ]
    },
    {
      "cell_type": "code",
      "execution_count": null,
      "metadata": {
        "id": "sPbOxaEf9ylH"
      },
      "outputs": [],
      "source": [
        "i1 = np.random.randint(0, 99, 99)\n",
        "j1 = np.random.randint(0, 99, 99)\n",
        "\n",
        "i2 = np.random.randint(0, 999, 999)\n",
        "j2 = np.random.randint(0, 999, 999)\n",
        "\n",
        "i3 = np.random.randint(0, 9999, 9999)\n",
        "j3 = np.random.randint(0, 9999, 9999)"
      ]
    },
    {
      "cell_type": "markdown",
      "metadata": {
        "id": "LLMwErD39ylH"
      },
      "source": [
        "## 2.1."
      ]
    },
    {
      "cell_type": "code",
      "execution_count": null,
      "metadata": {
        "id": "kw2liYmh9ylH",
        "outputId": "20d53234-05ee-4a85-a467-0fc8c2728764",
        "tags": []
      },
      "outputs": [
        {
          "name": "stdout",
          "output_type": "stream",
          "text": [
            "2.85 µs ± 18.5 ns per loop (mean ± std. dev. of 7 runs, 100,000 loops each)\n"
          ]
        },
        {
          "data": {
            "text/plain": [
              "<TimeitResult : 2.85 µs ± 18.5 ns per loop (mean ± std. dev. of 7 runs, 100,000 loops each)>"
            ]
          },
          "execution_count": 33,
          "metadata": {},
          "output_type": "execute_result"
        }
      ],
      "source": [
        "%%timeit -o\n",
        "np.array(X1[i1, j1]);"
      ]
    },
    {
      "cell_type": "code",
      "execution_count": null,
      "metadata": {
        "id": "2YWU8yrE9qrZ"
      },
      "outputs": [],
      "source": [
        "timings[0, 0] = _.average"
      ]
    },
    {
      "cell_type": "code",
      "execution_count": null,
      "metadata": {
        "outputId": "20d53234-05ee-4a85-a467-0fc8c2728764",
        "tags": [],
        "id": "bo5YcpZq9qrZ"
      },
      "outputs": [
        {
          "name": "stdout",
          "output_type": "stream",
          "text": [
            "8.98 µs ± 58.3 ns per loop (mean ± std. dev. of 7 runs, 100,000 loops each)\n"
          ]
        },
        {
          "data": {
            "text/plain": [
              "<TimeitResult : 8.98 µs ± 58.3 ns per loop (mean ± std. dev. of 7 runs, 100,000 loops each)>"
            ]
          },
          "execution_count": 35,
          "metadata": {},
          "output_type": "execute_result"
        }
      ],
      "source": [
        "%%timeit -o\n",
        "np.array(X2[i2, j2]);"
      ]
    },
    {
      "cell_type": "code",
      "execution_count": null,
      "metadata": {
        "id": "YjYMeW-p9qra"
      },
      "outputs": [],
      "source": [
        "timings[0, 1] = _.average"
      ]
    },
    {
      "cell_type": "code",
      "execution_count": null,
      "metadata": {
        "outputId": "20d53234-05ee-4a85-a467-0fc8c2728764",
        "tags": [],
        "id": "zyRvVsAF9qrf"
      },
      "outputs": [
        {
          "name": "stdout",
          "output_type": "stream",
          "text": [
            "105 µs ± 696 ns per loop (mean ± std. dev. of 7 runs, 10,000 loops each)\n"
          ]
        },
        {
          "data": {
            "text/plain": [
              "<TimeitResult : 105 µs ± 696 ns per loop (mean ± std. dev. of 7 runs, 10,000 loops each)>"
            ]
          },
          "execution_count": 37,
          "metadata": {},
          "output_type": "execute_result"
        }
      ],
      "source": [
        "%%timeit -o\n",
        "np.array(X3[i3, j3]);"
      ]
    },
    {
      "cell_type": "code",
      "execution_count": null,
      "metadata": {
        "id": "DsqyLFWv9qrn"
      },
      "outputs": [],
      "source": [
        "timings[0, 2] = _.average"
      ]
    },
    {
      "cell_type": "markdown",
      "metadata": {
        "id": "xiXJ1plR9ylI"
      },
      "source": [
        "## 2.2."
      ]
    },
    {
      "cell_type": "code",
      "execution_count": null,
      "metadata": {
        "id": "OD3XKVgo9ylI",
        "outputId": "5dce9d77-60ec-4c06-8857-56673f5298c0",
        "tags": []
      },
      "outputs": [
        {
          "name": "stdout",
          "output_type": "stream",
          "text": [
            "87.8 µs ± 966 ns per loop (mean ± std. dev. of 7 runs, 10,000 loops each)\n"
          ]
        },
        {
          "data": {
            "text/plain": [
              "<TimeitResult : 87.8 µs ± 966 ns per loop (mean ± std. dev. of 7 runs, 10,000 loops each)>"
            ]
          },
          "execution_count": 39,
          "metadata": {},
          "output_type": "execute_result"
        }
      ],
      "source": [
        "%%timeit -o\n",
        "res = []\n",
        "for k in range(0, X1.shape[0]-1):\n",
        "    res.append(X1[i1[k], j1[k]])"
      ]
    },
    {
      "cell_type": "code",
      "execution_count": null,
      "metadata": {
        "id": "6_6ipm779qro"
      },
      "outputs": [],
      "source": [
        "timings[1, 0] = _.average"
      ]
    },
    {
      "cell_type": "code",
      "execution_count": null,
      "metadata": {
        "outputId": "5dce9d77-60ec-4c06-8857-56673f5298c0",
        "tags": [],
        "id": "8R8pQVpe9qro"
      },
      "outputs": [
        {
          "name": "stdout",
          "output_type": "stream",
          "text": [
            "1 ms ± 18.8 µs per loop (mean ± std. dev. of 7 runs, 1,000 loops each)\n"
          ]
        },
        {
          "data": {
            "text/plain": [
              "<TimeitResult : 1 ms ± 18.8 µs per loop (mean ± std. dev. of 7 runs, 1,000 loops each)>"
            ]
          },
          "execution_count": 41,
          "metadata": {},
          "output_type": "execute_result"
        }
      ],
      "source": [
        "%%timeit -o\n",
        "res = []\n",
        "for k in range(0, X2.shape[0]-1):\n",
        "    res.append(X2[i2[k], j2[k]])"
      ]
    },
    {
      "cell_type": "code",
      "execution_count": null,
      "metadata": {
        "id": "X8O5Cz4T9qro"
      },
      "outputs": [],
      "source": [
        "timings[1, 1] = _.average"
      ]
    },
    {
      "cell_type": "code",
      "execution_count": null,
      "metadata": {
        "outputId": "5dce9d77-60ec-4c06-8857-56673f5298c0",
        "tags": [],
        "id": "0PDViBdM9qrp"
      },
      "outputs": [
        {
          "name": "stdout",
          "output_type": "stream",
          "text": [
            "11 ms ± 410 µs per loop (mean ± std. dev. of 7 runs, 100 loops each)\n"
          ]
        },
        {
          "data": {
            "text/plain": [
              "<TimeitResult : 11 ms ± 410 µs per loop (mean ± std. dev. of 7 runs, 100 loops each)>"
            ]
          },
          "execution_count": 43,
          "metadata": {},
          "output_type": "execute_result"
        }
      ],
      "source": [
        "%%timeit -o\n",
        "res = []\n",
        "for k in range(0, X3.shape[0]-1):\n",
        "    res.append(X3[i3[k], j3[k]])"
      ]
    },
    {
      "cell_type": "code",
      "execution_count": null,
      "metadata": {
        "id": "J1dmU0hE9qrp"
      },
      "outputs": [],
      "source": [
        "timings[1, 2] = _.average"
      ]
    },
    {
      "cell_type": "markdown",
      "metadata": {
        "id": "AE2V6cDW9ylI"
      },
      "source": [
        "## 2.3."
      ]
    },
    {
      "cell_type": "code",
      "execution_count": null,
      "metadata": {
        "id": "E_hfYH_u9ylI",
        "outputId": "0784b84c-e0de-4f20-e314-fcfcf4223a03",
        "tags": []
      },
      "outputs": [
        {
          "name": "stdout",
          "output_type": "stream",
          "text": [
            "75.2 µs ± 1.92 µs per loop (mean ± std. dev. of 7 runs, 10,000 loops each)\n"
          ]
        },
        {
          "data": {
            "text/plain": [
              "<TimeitResult : 75.2 µs ± 1.92 µs per loop (mean ± std. dev. of 7 runs, 10,000 loops each)>"
            ]
          },
          "execution_count": 45,
          "metadata": {},
          "output_type": "execute_result"
        }
      ],
      "source": [
        "%%timeit -o\n",
        "np.array([X1[i1[k], j1[k]] for k in range(0, X1.shape[0]-1)]);"
      ]
    },
    {
      "cell_type": "code",
      "execution_count": null,
      "metadata": {
        "id": "I9uzNLhq9qrq"
      },
      "outputs": [],
      "source": [
        "timings[2, 0] = _.average"
      ]
    },
    {
      "cell_type": "code",
      "execution_count": null,
      "metadata": {
        "outputId": "0784b84c-e0de-4f20-e314-fcfcf4223a03",
        "tags": [],
        "id": "Up-3QMwo9qrq"
      },
      "outputs": [
        {
          "name": "stdout",
          "output_type": "stream",
          "text": [
            "832 µs ± 13.4 µs per loop (mean ± std. dev. of 7 runs, 1,000 loops each)\n"
          ]
        },
        {
          "data": {
            "text/plain": [
              "<TimeitResult : 832 µs ± 13.4 µs per loop (mean ± std. dev. of 7 runs, 1,000 loops each)>"
            ]
          },
          "execution_count": 47,
          "metadata": {},
          "output_type": "execute_result"
        }
      ],
      "source": [
        "%%timeit -o\n",
        "np.array([X2[i2[k], j2[k]] for k in range(0, X2.shape[0]-1)]);"
      ]
    },
    {
      "cell_type": "code",
      "execution_count": null,
      "metadata": {
        "id": "_oKNlT_Q9qrq"
      },
      "outputs": [],
      "source": [
        "timings[2, 1] = _.average"
      ]
    },
    {
      "cell_type": "code",
      "execution_count": null,
      "metadata": {
        "outputId": "0784b84c-e0de-4f20-e314-fcfcf4223a03",
        "tags": [],
        "id": "eKy78Aku9qrr"
      },
      "outputs": [
        {
          "name": "stdout",
          "output_type": "stream",
          "text": [
            "9.56 ms ± 251 µs per loop (mean ± std. dev. of 7 runs, 100 loops each)\n"
          ]
        },
        {
          "data": {
            "text/plain": [
              "<TimeitResult : 9.56 ms ± 251 µs per loop (mean ± std. dev. of 7 runs, 100 loops each)>"
            ]
          },
          "execution_count": 49,
          "metadata": {},
          "output_type": "execute_result"
        }
      ],
      "source": [
        "%%timeit -o\n",
        "np.array([X3[i3[k], j3[k]] for k in range(0, X3.shape[0]-1)]);"
      ]
    },
    {
      "cell_type": "code",
      "execution_count": null,
      "metadata": {
        "id": "l4DtSman9qrr"
      },
      "outputs": [],
      "source": [
        "timings[2, 2] = _.average"
      ]
    },
    {
      "cell_type": "markdown",
      "metadata": {
        "id": "hRnogcOV9qrr"
      },
      "source": [
        "## Графики времени выполнения"
      ]
    },
    {
      "cell_type": "code",
      "execution_count": null,
      "metadata": {
        "collapsed": true,
        "jupyter": {
          "outputs_hidden": true
        },
        "tags": [],
        "id": "x-PFo9CJ9qrr",
        "outputId": "7455dfdd-8fc4-4bf8-f158-461573d68b1c"
      },
      "outputs": [
        {
          "data": {
            "text/plain": [
              "array([[2.85242857e-06, 8.98042857e-06, 1.04637143e-04],\n",
              "       [8.78042857e-05, 1.00237143e-03, 1.10325714e-02],\n",
              "       [7.51671429e-05, 8.32371429e-04, 9.56242857e-03]])"
            ]
          },
          "execution_count": 52,
          "metadata": {},
          "output_type": "execute_result"
        }
      ],
      "source": [
        "timings"
      ]
    },
    {
      "cell_type": "code",
      "execution_count": null,
      "metadata": {
        "id": "0_Fcv2rq9qrs",
        "outputId": "02563235-f221-42af-f584-1517533cb158"
      },
      "outputs": [
        {
          "data": {
            "text/plain": [
              "<Figure size 640x480 with 0 Axes>"
            ]
          },
          "metadata": {},
          "output_type": "display_data"
        },
        {
          "data": {
            "image/png": "[encoded data removed]",
            "text/plain": [
              "<Figure size 1200x1000 with 3 Axes>"
            ]
          },
          "metadata": {},
          "output_type": "display_data"
        }
      ],
      "source": [
        "plt.figure()\n",
        "\n",
        "plt.figure(figsize=(12, 10))\n",
        "for category_num in range(1, 4):\n",
        "    plt.subplot(4, 4, category_num)\n",
        "    plt.bar(range(1, 4), timings[:, category_num-1])\n",
        "    plt.ylabel(\"Время выполнения, с\")\n",
        "    plt.xlabel(\"Способ выполнения\")\n",
        "    plt.title('Набор {}'.format(category_num))\n",
        "\n",
        "plt.tight_layout()\n",
        "plt.show()"
      ]
    },
    {
      "cell_type": "markdown",
      "metadata": {
        "id": "lgxg_iHv9ylI",
        "tags": []
      },
      "source": [
        "# 3.\n",
        "### Даны два вектора x и y. Проверить, задают ли они одно и то же мультимножество.\n",
        "Для x = np.array([1, 2, 2, 4]), y = np.array([4, 2, 1, 2]) ответ True."
      ]
    },
    {
      "cell_type": "code",
      "execution_count": null,
      "metadata": {
        "id": "n4i_pJfe9ylI",
        "jupyter": {
          "source_hidden": true
        },
        "tags": []
      },
      "outputs": [],
      "source": [
        "x = np.array([1, 2, 2, 4])\n",
        "y = np.array([4, 2, 1, 2])"
      ]
    },
    {
      "cell_type": "code",
      "execution_count": null,
      "metadata": {
        "id": "vLMEDNk39qrt"
      },
      "outputs": [],
      "source": [
        "x1 = np.random.randint(0, 9, 100)\n",
        "y1 = np.random.randint(0, 9, 100)\n",
        "\n",
        "x2 = np.random.randint(0, 9, 1000)\n",
        "y2 = np.random.randint(0, 9, 1000)\n",
        "\n",
        "x3 = np.random.randint(0, 9, 10000)\n",
        "y3 = np.random.randint(0, 9, 10000)"
      ]
    },
    {
      "cell_type": "code",
      "execution_count": null,
      "metadata": {
        "id": "oIFkrk1A9qrt"
      },
      "outputs": [],
      "source": [
        "timings = np.zeros((3, 3))"
      ]
    },
    {
      "cell_type": "markdown",
      "metadata": {
        "id": "HNGe8SJ89ylJ"
      },
      "source": [
        "## 3.1."
      ]
    },
    {
      "cell_type": "code",
      "execution_count": null,
      "metadata": {
        "id": "fzA-QhGw9ylJ",
        "outputId": "4e271c19-4174-40c2-b2a4-ba4bfb69b6a0"
      },
      "outputs": [
        {
          "name": "stdout",
          "output_type": "stream",
          "text": [
            "70 µs ± 972 ns per loop (mean ± std. dev. of 7 runs, 10,000 loops each)\n"
          ]
        },
        {
          "data": {
            "text/plain": [
              "<TimeitResult : 70 µs ± 972 ns per loop (mean ± std. dev. of 7 runs, 10,000 loops each)>"
            ]
          },
          "execution_count": 91,
          "metadata": {},
          "output_type": "execute_result"
        }
      ],
      "source": [
        "%%timeit -o\n",
        "np.setdiff1d(x1, y1).size == 0;"
      ]
    },
    {
      "cell_type": "code",
      "execution_count": null,
      "metadata": {
        "id": "xI-IYJ4C9qru"
      },
      "outputs": [],
      "source": [
        "timings[0, 0] = _.average"
      ]
    },
    {
      "cell_type": "code",
      "execution_count": null,
      "metadata": {
        "outputId": "4e271c19-4174-40c2-b2a4-ba4bfb69b6a0",
        "id": "-dS_y0mc9qru"
      },
      "outputs": [
        {
          "name": "stdout",
          "output_type": "stream",
          "text": [
            "105 µs ± 840 ns per loop (mean ± std. dev. of 7 runs, 10,000 loops each)\n"
          ]
        },
        {
          "data": {
            "text/plain": [
              "<TimeitResult : 105 µs ± 840 ns per loop (mean ± std. dev. of 7 runs, 10,000 loops each)>"
            ]
          },
          "execution_count": 93,
          "metadata": {},
          "output_type": "execute_result"
        }
      ],
      "source": [
        "%%timeit -o\n",
        "np.setdiff1d(x2, y2).size == 0;"
      ]
    },
    {
      "cell_type": "code",
      "execution_count": null,
      "metadata": {
        "id": "mutr0xhI9qru"
      },
      "outputs": [],
      "source": [
        "timings[0, 1] = _.average"
      ]
    },
    {
      "cell_type": "code",
      "execution_count": null,
      "metadata": {
        "outputId": "4e271c19-4174-40c2-b2a4-ba4bfb69b6a0",
        "id": "f41rxBl59qrv"
      },
      "outputs": [
        {
          "name": "stdout",
          "output_type": "stream",
          "text": [
            "470 µs ± 7.98 µs per loop (mean ± std. dev. of 7 runs, 1,000 loops each)\n"
          ]
        },
        {
          "data": {
            "text/plain": [
              "<TimeitResult : 470 µs ± 7.98 µs per loop (mean ± std. dev. of 7 runs, 1,000 loops each)>"
            ]
          },
          "execution_count": 95,
          "metadata": {},
          "output_type": "execute_result"
        }
      ],
      "source": [
        "%%timeit -o\n",
        "np.setdiff1d(x3, y3).size == 0;"
      ]
    },
    {
      "cell_type": "code",
      "execution_count": null,
      "metadata": {
        "id": "Rpnln-8D9qrv"
      },
      "outputs": [],
      "source": [
        "timings[0, 2] = _.average"
      ]
    },
    {
      "cell_type": "markdown",
      "metadata": {
        "id": "FJiwHHma9ylJ"
      },
      "source": [
        "## 3.2."
      ]
    },
    {
      "cell_type": "code",
      "execution_count": null,
      "metadata": {
        "id": "g9LTUqA99ylJ",
        "outputId": "8fd2c2ba-70a7-4394-ad71-6a8182545fff"
      },
      "outputs": [
        {
          "name": "stdout",
          "output_type": "stream",
          "text": [
            "82.1 µs ± 1.37 µs per loop (mean ± std. dev. of 7 runs, 10,000 loops each)\n"
          ]
        },
        {
          "data": {
            "text/plain": [
              "<TimeitResult : 82.1 µs ± 1.37 µs per loop (mean ± std. dev. of 7 runs, 10,000 loops each)>"
            ]
          },
          "execution_count": 97,
          "metadata": {},
          "output_type": "execute_result"
        }
      ],
      "source": [
        "%%timeit -o\n",
        "res = True\n",
        "checked = []\n",
        "for i in range(0, x1.size):\n",
        "    if x1[i] not in checked:\n",
        "        x_count = 0\n",
        "        y_count = 0\n",
        "        # counting elements in x\n",
        "        for j in range(i, x1.size):\n",
        "            if x1[i] == x1[j]:\n",
        "                x_count += 1\n",
        "        # counting elements in y\n",
        "        for j in range(i, y1.size):\n",
        "            if y1[i] == y1[j]:\n",
        "                y_count += 1\n",
        "        # if number of same elements not equal then not multiset\n",
        "        if x_count != y_count:\n",
        "            res = False\n",
        "            break"
      ]
    },
    {
      "cell_type": "code",
      "execution_count": null,
      "metadata": {
        "id": "r5_UWulj9qrw"
      },
      "outputs": [],
      "source": [
        "timings[1, 0] = _.average"
      ]
    },
    {
      "cell_type": "code",
      "execution_count": null,
      "metadata": {
        "outputId": "8fd2c2ba-70a7-4394-ad71-6a8182545fff",
        "id": "yBSeknCL9qrw"
      },
      "outputs": [
        {
          "name": "stdout",
          "output_type": "stream",
          "text": [
            "854 µs ± 7.69 µs per loop (mean ± std. dev. of 7 runs, 1,000 loops each)\n"
          ]
        },
        {
          "data": {
            "text/plain": [
              "<TimeitResult : 854 µs ± 7.69 µs per loop (mean ± std. dev. of 7 runs, 1,000 loops each)>"
            ]
          },
          "execution_count": 99,
          "metadata": {},
          "output_type": "execute_result"
        }
      ],
      "source": [
        "%%timeit -o\n",
        "res = True\n",
        "checked = []\n",
        "for i in range(0, x2.size):\n",
        "    if x2[i] not in checked:\n",
        "        x_count = 0\n",
        "        y_count = 0\n",
        "        # counting elements in x\n",
        "        for j in range(i, x2.size):\n",
        "            if x2[i] == x2[j]:\n",
        "                x_count += 1\n",
        "        # counting elements in y\n",
        "        for j in range(i, y2.size):\n",
        "            if y2[i] == y2[j]:\n",
        "                y_count += 1\n",
        "        # if number of same elements not equal then not multiset\n",
        "        if x_count != y_count:\n",
        "            res = False\n",
        "            break"
      ]
    },
    {
      "cell_type": "code",
      "execution_count": null,
      "metadata": {
        "id": "Y7ZwoEAr9qrw"
      },
      "outputs": [],
      "source": [
        "timings[1, 1] = _.average"
      ]
    },
    {
      "cell_type": "code",
      "execution_count": null,
      "metadata": {
        "outputId": "8fd2c2ba-70a7-4394-ad71-6a8182545fff",
        "id": "tV6erKaI9qrw"
      },
      "outputs": [
        {
          "name": "stdout",
          "output_type": "stream",
          "text": [
            "8.96 ms ± 115 µs per loop (mean ± std. dev. of 7 runs, 100 loops each)\n"
          ]
        },
        {
          "data": {
            "text/plain": [
              "<TimeitResult : 8.96 ms ± 115 µs per loop (mean ± std. dev. of 7 runs, 100 loops each)>"
            ]
          },
          "execution_count": 101,
          "metadata": {},
          "output_type": "execute_result"
        }
      ],
      "source": [
        "%%timeit -o\n",
        "res = True\n",
        "checked = []\n",
        "for i in range(0, x3.size):\n",
        "    if x3[i] not in checked:\n",
        "        x_count = 0\n",
        "        y_count = 0\n",
        "        # counting elements in x\n",
        "        for j in range(i, x3.size):\n",
        "            if x3[i] == x3[j]:\n",
        "                x_count += 1\n",
        "        # counting elements in y\n",
        "        for j in range(i, y3.size):\n",
        "            if y3[i] == y3[j]:\n",
        "                y_count += 1\n",
        "        # if number of same elements not equal then not multiset\n",
        "        if x_count != y_count:\n",
        "            res = False\n",
        "            break"
      ]
    },
    {
      "cell_type": "code",
      "execution_count": null,
      "metadata": {
        "id": "YIMhfWm-9qrx"
      },
      "outputs": [],
      "source": [
        "timings[1, 2] = _.average"
      ]
    },
    {
      "cell_type": "markdown",
      "metadata": {
        "id": "jpGvdrg59ylJ"
      },
      "source": [
        "## 3.3."
      ]
    },
    {
      "cell_type": "code",
      "execution_count": null,
      "metadata": {
        "id": "-I-Q1XCj9ylJ",
        "outputId": "1ce22330-a725-45d5-f052-ddda56437fb2"
      },
      "outputs": [
        {
          "name": "stdout",
          "output_type": "stream",
          "text": [
            "42.8 µs ± 309 ns per loop (mean ± std. dev. of 7 runs, 10,000 loops each)\n"
          ]
        },
        {
          "data": {
            "text/plain": [
              "<TimeitResult : 42.8 µs ± 309 ns per loop (mean ± std. dev. of 7 runs, 10,000 loops each)>"
            ]
          },
          "execution_count": 103,
          "metadata": {},
          "output_type": "execute_result"
        }
      ],
      "source": [
        "%%timeit -o\n",
        "uni = np.unique(x1)\n",
        "res = True\n",
        "for i in uni:\n",
        "    if np.sum(x1 == i) != np.sum(y1 == i):\n",
        "        res = False\n",
        "        break"
      ]
    },
    {
      "cell_type": "code",
      "execution_count": null,
      "metadata": {
        "id": "b11ZD9lP9qry"
      },
      "outputs": [],
      "source": [
        "timings[2, 0] = _.average"
      ]
    },
    {
      "cell_type": "code",
      "execution_count": null,
      "metadata": {
        "outputId": "1ce22330-a725-45d5-f052-ddda56437fb2",
        "id": "_HdEmLmg9qry"
      },
      "outputs": [
        {
          "name": "stdout",
          "output_type": "stream",
          "text": [
            "59 µs ± 171 ns per loop (mean ± std. dev. of 7 runs, 10,000 loops each)\n"
          ]
        },
        {
          "data": {
            "text/plain": [
              "<TimeitResult : 59 µs ± 171 ns per loop (mean ± std. dev. of 7 runs, 10,000 loops each)>"
            ]
          },
          "execution_count": 105,
          "metadata": {},
          "output_type": "execute_result"
        }
      ],
      "source": [
        "%%timeit -o\n",
        "uni = np.unique(x2)\n",
        "res = True\n",
        "for i in uni:\n",
        "    if np.sum(x2 == i) != np.sum(y2 == i):\n",
        "        res = False\n",
        "        break"
      ]
    },
    {
      "cell_type": "code",
      "execution_count": null,
      "metadata": {
        "id": "72J0BFIw9qry"
      },
      "outputs": [],
      "source": [
        "timings[2, 1] = _.average"
      ]
    },
    {
      "cell_type": "code",
      "execution_count": null,
      "metadata": {
        "outputId": "1ce22330-a725-45d5-f052-ddda56437fb2",
        "id": "5c8oEGIH9qry"
      },
      "outputs": [
        {
          "name": "stdout",
          "output_type": "stream",
          "text": [
            "263 µs ± 2.09 µs per loop (mean ± std. dev. of 7 runs, 1,000 loops each)\n"
          ]
        },
        {
          "data": {
            "text/plain": [
              "<TimeitResult : 263 µs ± 2.09 µs per loop (mean ± std. dev. of 7 runs, 1,000 loops each)>"
            ]
          },
          "execution_count": 107,
          "metadata": {},
          "output_type": "execute_result"
        }
      ],
      "source": [
        "%%timeit -o\n",
        "uni = np.unique(x3)\n",
        "res = True\n",
        "for i in uni:\n",
        "    if np.sum(x3 == i) != np.sum(y3 == i):\n",
        "        res = False\n",
        "        break"
      ]
    },
    {
      "cell_type": "code",
      "execution_count": null,
      "metadata": {
        "id": "rSdW8hOf9qrz"
      },
      "outputs": [],
      "source": [
        "timings[2, 2] = _.average"
      ]
    },
    {
      "cell_type": "markdown",
      "metadata": {
        "id": "zmMbi-sM9qrz"
      },
      "source": [
        "## Графики времени выполнения"
      ]
    },
    {
      "cell_type": "code",
      "execution_count": null,
      "metadata": {
        "tags": [],
        "id": "t6muz7pM9qrz",
        "outputId": "942ba774-a8bf-48e5-9a08-8cd0aa303e4b"
      },
      "outputs": [
        {
          "data": {
            "text/plain": [
              "array([[7.00442857e-05, 1.04868571e-04, 4.70471428e-04],\n",
              "       [8.20600000e-05, 8.54057143e-04, 8.95871428e-03],\n",
              "       [4.28214286e-05, 5.89685714e-05, 2.63042857e-04]])"
            ]
          },
          "execution_count": 109,
          "metadata": {},
          "output_type": "execute_result"
        }
      ],
      "source": [
        "timings"
      ]
    },
    {
      "cell_type": "code",
      "execution_count": null,
      "metadata": {
        "id": "axo0ouZd9qr0",
        "outputId": "0dcfc1b6-9eca-4330-c070-04238d5c41a3"
      },
      "outputs": [
        {
          "data": {
            "text/plain": [
              "<Figure size 640x480 with 0 Axes>"
            ]
          },
          "metadata": {},
          "output_type": "display_data"
        },
        {
          "data": {
            "image/png": "[encoded data removed]",
            "text/plain": [
              "<Figure size 1200x1000 with 3 Axes>"
            ]
          },
          "metadata": {},
          "output_type": "display_data"
        }
      ],
      "source": [
        "plt.figure()\n",
        "\n",
        "plt.figure(figsize=(12, 10))\n",
        "for category_num in range(1, 4):\n",
        "    plt.subplot(4, 4, category_num)\n",
        "    plt.bar(range(1, 4), timings[:, category_num-1])\n",
        "    plt.ylabel(\"Время выполнения, с\")\n",
        "    plt.xlabel(\"Способ выполнения\")\n",
        "    plt.title('Набор {}'.format(category_num))\n",
        "\n",
        "plt.tight_layout()\n",
        "plt.show()"
      ]
    },
    {
      "cell_type": "markdown",
      "metadata": {
        "id": "epyehplF9ylK",
        "tags": []
      },
      "source": [
        "# 4.\n",
        "### Найти максимальный элемент в векторе x среди элементов, перед которыми стоит нулевой.\n",
        "Для x = np.array([6, 2, 0, 3, 0, 0, 5, 7, 0]) ответ 5."
      ]
    },
    {
      "cell_type": "code",
      "execution_count": null,
      "metadata": {
        "id": "XIFA1gYx9ylK",
        "jupyter": {
          "source_hidden": true
        },
        "tags": []
      },
      "outputs": [],
      "source": [
        "x = np.array([6, 2, 0, 3, 0, 0, 5, 7, 0])"
      ]
    },
    {
      "cell_type": "code",
      "execution_count": null,
      "metadata": {
        "id": "Dgw6BzLK9qr0"
      },
      "outputs": [],
      "source": [
        "x1 = np.random.randint(0, 9, 100)\n",
        "x2 = np.random.randint(0, 9, 1000)\n",
        "x3 = np.random.randint(0, 9, 10000)"
      ]
    },
    {
      "cell_type": "code",
      "execution_count": null,
      "metadata": {
        "id": "GatVDij09qr1"
      },
      "outputs": [],
      "source": [
        "timings = np.zeros((3, 3))"
      ]
    },
    {
      "cell_type": "markdown",
      "metadata": {
        "id": "cumsHQHY9ylK"
      },
      "source": [
        "## 4.1."
      ]
    },
    {
      "cell_type": "code",
      "execution_count": null,
      "metadata": {
        "id": "U9By6Lhv9ylK",
        "outputId": "ba44a5c7-64bb-456b-c79e-52b2b53f6d4c"
      },
      "outputs": [
        {
          "name": "stdout",
          "output_type": "stream",
          "text": [
            "18.6 µs ± 133 ns per loop (mean ± std. dev. of 7 runs, 10,000 loops each)\n"
          ]
        },
        {
          "data": {
            "text/plain": [
              "<TimeitResult : 18.6 µs ± 133 ns per loop (mean ± std. dev. of 7 runs, 10,000 loops each)>"
            ]
          },
          "execution_count": 136,
          "metadata": {},
          "output_type": "execute_result"
        }
      ],
      "source": [
        "%%timeit -o\n",
        "np.max(x1[np.where(x1[:-1] == 0)[0] + 1]);"
      ]
    },
    {
      "cell_type": "code",
      "execution_count": null,
      "metadata": {
        "id": "BO57H8qU9qr1"
      },
      "outputs": [],
      "source": [
        "timings[0, 0] = _.average"
      ]
    },
    {
      "cell_type": "code",
      "execution_count": null,
      "metadata": {
        "outputId": "ba44a5c7-64bb-456b-c79e-52b2b53f6d4c",
        "id": "srYrdYxP9qr2"
      },
      "outputs": [
        {
          "name": "stdout",
          "output_type": "stream",
          "text": [
            "20.6 µs ± 385 ns per loop (mean ± std. dev. of 7 runs, 10,000 loops each)\n"
          ]
        },
        {
          "data": {
            "text/plain": [
              "<TimeitResult : 20.6 µs ± 385 ns per loop (mean ± std. dev. of 7 runs, 10,000 loops each)>"
            ]
          },
          "execution_count": 138,
          "metadata": {},
          "output_type": "execute_result"
        }
      ],
      "source": [
        "%%timeit -o\n",
        "np.max(x2[np.where(x2[:-1] == 0)[0] + 1]);"
      ]
    },
    {
      "cell_type": "code",
      "execution_count": null,
      "metadata": {
        "id": "gD5MaoN09qr2"
      },
      "outputs": [],
      "source": [
        "timings[0, 1] = _.average"
      ]
    },
    {
      "cell_type": "code",
      "execution_count": null,
      "metadata": {
        "outputId": "ba44a5c7-64bb-456b-c79e-52b2b53f6d4c",
        "id": "S2C4NfDf9qr2"
      },
      "outputs": [
        {
          "name": "stdout",
          "output_type": "stream",
          "text": [
            "34.5 µs ± 142 ns per loop (mean ± std. dev. of 7 runs, 10,000 loops each)\n"
          ]
        },
        {
          "data": {
            "text/plain": [
              "<TimeitResult : 34.5 µs ± 142 ns per loop (mean ± std. dev. of 7 runs, 10,000 loops each)>"
            ]
          },
          "execution_count": 140,
          "metadata": {},
          "output_type": "execute_result"
        }
      ],
      "source": [
        "%%timeit -o\n",
        "np.max(x3[np.where(x3[:-1] == 0)[0] + 1]);"
      ]
    },
    {
      "cell_type": "code",
      "execution_count": null,
      "metadata": {
        "id": "NF06KUFL9qr2"
      },
      "outputs": [],
      "source": [
        "timings[0, 2] = _.average"
      ]
    },
    {
      "cell_type": "markdown",
      "metadata": {
        "id": "0JtX8srN9ylK"
      },
      "source": [
        "## 4.2."
      ]
    },
    {
      "cell_type": "code",
      "execution_count": null,
      "metadata": {
        "id": "0RxnzOOT9ylK",
        "outputId": "707e0282-de8e-4498-d092-0a43f557b360"
      },
      "outputs": [
        {
          "name": "stdout",
          "output_type": "stream",
          "text": [
            "26.3 µs ± 296 ns per loop (mean ± std. dev. of 7 runs, 10,000 loops each)\n"
          ]
        },
        {
          "data": {
            "text/plain": [
              "<TimeitResult : 26.3 µs ± 296 ns per loop (mean ± std. dev. of 7 runs, 10,000 loops each)>"
            ]
          },
          "execution_count": 156,
          "metadata": {},
          "output_type": "execute_result"
        }
      ],
      "source": [
        "%%timeit -o\n",
        "m = -1\n",
        "for i in range(x1.size - 1):\n",
        "    if x1[i] == 0:\n",
        "        if x1[i+1] > m:\n",
        "            m = x1[i+1]"
      ]
    },
    {
      "cell_type": "code",
      "execution_count": null,
      "metadata": {
        "id": "qqH3lfPY9qsJ"
      },
      "outputs": [],
      "source": [
        "timings[1, 0] = _.average"
      ]
    },
    {
      "cell_type": "code",
      "execution_count": null,
      "metadata": {
        "outputId": "707e0282-de8e-4498-d092-0a43f557b360",
        "id": "VMURhzGy9qsJ"
      },
      "outputs": [
        {
          "name": "stdout",
          "output_type": "stream",
          "text": [
            "300 µs ± 2.2 µs per loop (mean ± std. dev. of 7 runs, 1,000 loops each)\n"
          ]
        },
        {
          "data": {
            "text/plain": [
              "<TimeitResult : 300 µs ± 2.2 µs per loop (mean ± std. dev. of 7 runs, 1,000 loops each)>"
            ]
          },
          "execution_count": 158,
          "metadata": {},
          "output_type": "execute_result"
        }
      ],
      "source": [
        "%%timeit -o\n",
        "m = -1\n",
        "for i in range(x2.size - 1):\n",
        "    if x2[i] == 0:\n",
        "        if x2[i+1] > m:\n",
        "            m = x2[i+1]"
      ]
    },
    {
      "cell_type": "code",
      "execution_count": null,
      "metadata": {
        "id": "tLlIme-99qsJ"
      },
      "outputs": [],
      "source": [
        "timings[1, 1] = _.average"
      ]
    },
    {
      "cell_type": "code",
      "execution_count": null,
      "metadata": {
        "outputId": "707e0282-de8e-4498-d092-0a43f557b360",
        "id": "We5gy2uR9qsK"
      },
      "outputs": [
        {
          "name": "stdout",
          "output_type": "stream",
          "text": [
            "3.09 ms ± 29.7 µs per loop (mean ± std. dev. of 7 runs, 100 loops each)\n"
          ]
        },
        {
          "data": {
            "text/plain": [
              "<TimeitResult : 3.09 ms ± 29.7 µs per loop (mean ± std. dev. of 7 runs, 100 loops each)>"
            ]
          },
          "execution_count": 160,
          "metadata": {},
          "output_type": "execute_result"
        }
      ],
      "source": [
        "%%timeit -o\n",
        "m = -1\n",
        "for i in range(x3.size - 1):\n",
        "    if x3[i] == 0:\n",
        "        if x3[i+1] > m:\n",
        "            m = x3[i+1]"
      ]
    },
    {
      "cell_type": "code",
      "execution_count": null,
      "metadata": {
        "id": "m-MG_nDY9qsK"
      },
      "outputs": [],
      "source": [
        "timings[1, 2] = _.average"
      ]
    },
    {
      "cell_type": "markdown",
      "metadata": {
        "id": "LwPrMjho9ylL"
      },
      "source": [
        "## 4.3."
      ]
    },
    {
      "cell_type": "code",
      "execution_count": null,
      "metadata": {
        "id": "Fjkf3s5e9ylL",
        "outputId": "a80e21da-de4e-47fb-9f31-363e2332802c"
      },
      "outputs": [
        {
          "name": "stdout",
          "output_type": "stream",
          "text": [
            "46.7 µs ± 1.12 µs per loop (mean ± std. dev. of 7 runs, 10,000 loops each)\n"
          ]
        },
        {
          "data": {
            "text/plain": [
              "<TimeitResult : 46.7 µs ± 1.12 µs per loop (mean ± std. dev. of 7 runs, 10,000 loops each)>"
            ]
          },
          "execution_count": 162,
          "metadata": {},
          "output_type": "execute_result"
        }
      ],
      "source": [
        "%%timeit -o\n",
        "mask = x1 == 0\n",
        "mask = np.roll(mask, 1)\n",
        "mask[0] = False\n",
        "np.max(x1[mask]);"
      ]
    },
    {
      "cell_type": "code",
      "execution_count": null,
      "metadata": {
        "id": "_1CHKw0f9qsL"
      },
      "outputs": [],
      "source": [
        "timings[2, 0] = _.average"
      ]
    },
    {
      "cell_type": "code",
      "execution_count": null,
      "metadata": {
        "id": "209H6Aqm9qsL",
        "outputId": "511e4988-3c42-4723-c470-4758c70a8721"
      },
      "outputs": [
        {
          "name": "stdout",
          "output_type": "stream",
          "text": [
            "49.8 µs ± 259 ns per loop (mean ± std. dev. of 7 runs, 10,000 loops each)\n"
          ]
        },
        {
          "data": {
            "text/plain": [
              "<TimeitResult : 49.8 µs ± 259 ns per loop (mean ± std. dev. of 7 runs, 10,000 loops each)>"
            ]
          },
          "execution_count": 164,
          "metadata": {},
          "output_type": "execute_result"
        }
      ],
      "source": [
        "%%timeit -o\n",
        "mask = x2 == 0\n",
        "mask = np.roll(mask, 1)\n",
        "mask[0] = False\n",
        "np.max(x2[mask]);"
      ]
    },
    {
      "cell_type": "code",
      "execution_count": null,
      "metadata": {
        "id": "KUVmlOrQ9qsL"
      },
      "outputs": [],
      "source": [
        "timings[2, 1] = _.average"
      ]
    },
    {
      "cell_type": "code",
      "execution_count": null,
      "metadata": {
        "id": "n96BB4dm9qsM",
        "outputId": "7b4597ea-12b0-4cba-ed82-456bea29143c"
      },
      "outputs": [
        {
          "name": "stdout",
          "output_type": "stream",
          "text": [
            "78.8 µs ± 906 ns per loop (mean ± std. dev. of 7 runs, 10,000 loops each)\n"
          ]
        },
        {
          "data": {
            "text/plain": [
              "<TimeitResult : 78.8 µs ± 906 ns per loop (mean ± std. dev. of 7 runs, 10,000 loops each)>"
            ]
          },
          "execution_count": 166,
          "metadata": {},
          "output_type": "execute_result"
        }
      ],
      "source": [
        "%%timeit -o\n",
        "mask = x3 == 0\n",
        "mask = np.roll(mask, 1)\n",
        "mask[0] = False\n",
        "np.max(x3[mask]);"
      ]
    },
    {
      "cell_type": "code",
      "execution_count": null,
      "metadata": {
        "id": "WY5bIW_a9qsM"
      },
      "outputs": [],
      "source": [
        "timings[2, 2] = _.average"
      ]
    },
    {
      "cell_type": "markdown",
      "metadata": {
        "id": "Xyhdc1-y9qsM"
      },
      "source": [
        "## Графики времени выполнения"
      ]
    },
    {
      "cell_type": "code",
      "execution_count": null,
      "metadata": {
        "collapsed": true,
        "jupyter": {
          "outputs_hidden": true
        },
        "tags": [],
        "id": "QB04yf1x9qsM",
        "outputId": "02be95f3-d90f-4e81-c852-af321c05fa51"
      },
      "outputs": [
        {
          "data": {
            "text/plain": [
              "array([[1.85857143e-05, 2.06214286e-05, 3.45000000e-05],\n",
              "       [2.62514286e-05, 3.00414286e-04, 3.09457143e-03],\n",
              "       [4.67071429e-05, 4.98471429e-05, 7.87785714e-05]])"
            ]
          },
          "execution_count": 168,
          "metadata": {},
          "output_type": "execute_result"
        }
      ],
      "source": [
        "timings"
      ]
    },
    {
      "cell_type": "code",
      "execution_count": null,
      "metadata": {
        "id": "rD9LayKc9qsN",
        "outputId": "e08db54d-5c1b-4204-c4ed-9999ce3eac9d"
      },
      "outputs": [
        {
          "data": {
            "text/plain": [
              "<Figure size 640x480 with 0 Axes>"
            ]
          },
          "metadata": {},
          "output_type": "display_data"
        },
        {
          "data": {
            "image/png": "[encoded data removed]",
            "text/plain": [
              "<Figure size 1200x1000 with 3 Axes>"
            ]
          },
          "metadata": {},
          "output_type": "display_data"
        }
      ],
      "source": [
        "plt.figure()\n",
        "\n",
        "plt.figure(figsize=(12, 10))\n",
        "for category_num in range(1, 4):\n",
        "    plt.subplot(4, 4, category_num)\n",
        "    plt.bar(range(1, 4), timings[:, category_num-1])\n",
        "    plt.ylabel(\"Время выполнения, с\")\n",
        "    plt.xlabel(\"Способ выполнения\")\n",
        "    plt.title('Набор {}'.format(category_num))\n",
        "\n",
        "plt.tight_layout()\n",
        "plt.show()"
      ]
    },
    {
      "cell_type": "markdown",
      "metadata": {
        "id": "0qIBW5AG9ylL",
        "tags": []
      },
      "source": [
        "# 5.\n",
        "### Дан трёхмерный массив, содержащий изображение, размера (height, width, numChannels), а также вектор длины numChannels. Сложить каналы изображения с указанными весами, и вернуть результат в виде матрицы размера (height, width). Считать реальное изображение можно при помощи функции scipy.misc.imread (если изображение не в формате png, установите пакет pillow: conda install pillow). Преобразуйте цветное изображение в оттенки серого, использовав коэффициенты np.array([0.299, 0.587, 0.114])."
      ]
    },
    {
      "cell_type": "code",
      "execution_count": null,
      "metadata": {
        "id": "4jyE89sz9ylL"
      },
      "outputs": [],
      "source": [
        "# scipy.misc.imread was replaced by imageio.imread\n",
        "a1 = imageio.imread(\"car10.png\")\n",
        "a2 = imageio.imread(\"car100.png\")\n",
        "a3 = imageio.imread(\"car1000.png\")"
      ]
    },
    {
      "cell_type": "code",
      "execution_count": null,
      "metadata": {
        "id": "etJ0DuAB9qsN"
      },
      "outputs": [],
      "source": [
        "timings = np.zeros((3, 3))"
      ]
    },
    {
      "cell_type": "markdown",
      "metadata": {
        "id": "CJ2-DmBu9ylL"
      },
      "source": [
        "## 5.1."
      ]
    },
    {
      "cell_type": "code",
      "execution_count": null,
      "metadata": {
        "id": "C4ifWOa49qsN",
        "outputId": "d31eecee-8727-4bd0-ceed-317ffdb7697a"
      },
      "outputs": [
        {
          "name": "stdout",
          "output_type": "stream",
          "text": [
            "19.7 µs ± 403 ns per loop (mean ± std. dev. of 7 runs, 10,000 loops each)\n"
          ]
        },
        {
          "data": {
            "text/plain": [
              "<TimeitResult : 19.7 µs ± 403 ns per loop (mean ± std. dev. of 7 runs, 10,000 loops each)>"
            ]
          },
          "execution_count": 25,
          "metadata": {},
          "output_type": "execute_result"
        }
      ],
      "source": [
        "%%timeit -o\n",
        "np.dot(a1[...,:3], [0.299, 0.587, 0.114]);"
      ]
    },
    {
      "cell_type": "code",
      "execution_count": null,
      "metadata": {
        "id": "5S__tX0M9qsO"
      },
      "outputs": [],
      "source": [
        "timings[0, 0] = _.average"
      ]
    },
    {
      "cell_type": "code",
      "execution_count": null,
      "metadata": {
        "id": "d-h6l6p39qsO",
        "outputId": "4fda1de4-0796-45b9-8e10-67159cdc5207"
      },
      "outputs": [
        {
          "name": "stdout",
          "output_type": "stream",
          "text": [
            "295 µs ± 5.58 µs per loop (mean ± std. dev. of 7 runs, 1,000 loops each)\n"
          ]
        },
        {
          "data": {
            "text/plain": [
              "<TimeitResult : 295 µs ± 5.58 µs per loop (mean ± std. dev. of 7 runs, 1,000 loops each)>"
            ]
          },
          "execution_count": 27,
          "metadata": {},
          "output_type": "execute_result"
        }
      ],
      "source": [
        "%%timeit -o\n",
        "np.dot(a2[...,:3], [0.299, 0.587, 0.114]);"
      ]
    },
    {
      "cell_type": "code",
      "execution_count": null,
      "metadata": {
        "id": "3dJmi8kw9qsO"
      },
      "outputs": [],
      "source": [
        "timings[0, 1] = _.average"
      ]
    },
    {
      "cell_type": "code",
      "execution_count": null,
      "metadata": {
        "id": "cw5xG0rm9qsO",
        "outputId": "02b09a6c-c2fa-471b-bdc9-f386c2e1d845"
      },
      "outputs": [
        {
          "name": "stdout",
          "output_type": "stream",
          "text": [
            "28.1 ms ± 501 µs per loop (mean ± std. dev. of 7 runs, 10 loops each)\n"
          ]
        },
        {
          "data": {
            "text/plain": [
              "<TimeitResult : 28.1 ms ± 501 µs per loop (mean ± std. dev. of 7 runs, 10 loops each)>"
            ]
          },
          "execution_count": 29,
          "metadata": {},
          "output_type": "execute_result"
        }
      ],
      "source": [
        "%%timeit -o\n",
        "np.dot(a3[...,:3], [0.299, 0.587, 0.114]);"
      ]
    },
    {
      "cell_type": "code",
      "execution_count": null,
      "metadata": {
        "id": "VCqZRqFB9qsO"
      },
      "outputs": [],
      "source": [
        "timings[0, 2] = _.average"
      ]
    },
    {
      "cell_type": "markdown",
      "metadata": {
        "id": "abxxB6U39ylL"
      },
      "source": [
        "## 5.2."
      ]
    },
    {
      "cell_type": "code",
      "execution_count": null,
      "metadata": {
        "id": "PqQLGyBn9qsP",
        "outputId": "969e441d-7be4-46f0-b669-579c74353c23"
      },
      "outputs": [
        {
          "name": "stdout",
          "output_type": "stream",
          "text": [
            "902 µs ± 6.92 µs per loop (mean ± std. dev. of 7 runs, 1,000 loops each)\n"
          ]
        },
        {
          "data": {
            "text/plain": [
              "<TimeitResult : 902 µs ± 6.92 µs per loop (mean ± std. dev. of 7 runs, 1,000 loops each)>"
            ]
          },
          "execution_count": 31,
          "metadata": {},
          "output_type": "execute_result"
        }
      ],
      "source": [
        "%%timeit -o\n",
        "gray_img2 = []\n",
        "row = []\n",
        "for i in range(a1.shape[0]):\n",
        "    for j in range(a1.shape[1]):\n",
        "        row.append(a1[i, j, 0]*0.299 + a1[i, j, 1]*0.587 + a1[i, j, 2]*0.114)\n",
        "    gray_img2.append(row)\n",
        "    row = []"
      ]
    },
    {
      "cell_type": "code",
      "execution_count": null,
      "metadata": {
        "id": "g7zcEATr9qsP"
      },
      "outputs": [],
      "source": [
        "timings[1, 0] = _.average"
      ]
    },
    {
      "cell_type": "code",
      "execution_count": null,
      "metadata": {
        "id": "jcRhTm049qsP",
        "outputId": "1afc13ca-f746-4e19-f2e5-0313d81b5ca0"
      },
      "outputs": [
        {
          "name": "stdout",
          "output_type": "stream",
          "text": [
            "89.7 ms ± 1.53 ms per loop (mean ± std. dev. of 7 runs, 10 loops each)\n"
          ]
        },
        {
          "data": {
            "text/plain": [
              "<TimeitResult : 89.7 ms ± 1.53 ms per loop (mean ± std. dev. of 7 runs, 10 loops each)>"
            ]
          },
          "execution_count": 33,
          "metadata": {},
          "output_type": "execute_result"
        }
      ],
      "source": [
        "%%timeit -o\n",
        "gray_img2 = []\n",
        "row = []\n",
        "for i in range(a2.shape[0]):\n",
        "    for j in range(a2.shape[1]):\n",
        "        row.append(a2[i, j, 0]*0.299 + a2[i, j, 1]*0.587 + a2[i, j, 2]*0.114)\n",
        "    gray_img2.append(row)\n",
        "    row = []"
      ]
    },
    {
      "cell_type": "code",
      "execution_count": null,
      "metadata": {
        "id": "kWkhwUwL9qsQ"
      },
      "outputs": [],
      "source": [
        "timings[1, 1] = _.average"
      ]
    },
    {
      "cell_type": "code",
      "execution_count": null,
      "metadata": {
        "id": "VyLbqGwi9qsQ",
        "outputId": "744819cd-389c-4036-d61a-4bc1a240d1a9"
      },
      "outputs": [
        {
          "name": "stdout",
          "output_type": "stream",
          "text": [
            "8.96 s ± 55.1 ms per loop (mean ± std. dev. of 7 runs, 1 loop each)\n"
          ]
        },
        {
          "data": {
            "text/plain": [
              "<TimeitResult : 8.96 s ± 55.1 ms per loop (mean ± std. dev. of 7 runs, 1 loop each)>"
            ]
          },
          "execution_count": 35,
          "metadata": {},
          "output_type": "execute_result"
        }
      ],
      "source": [
        "%%timeit -o\n",
        "gray_img2 = []\n",
        "row = []\n",
        "for i in range(a3.shape[0]):\n",
        "    for j in range(a3.shape[1]):\n",
        "        row.append(a3[i, j, 0]*0.299 + a3[i, j, 1]*0.587 + a3[i, j, 2]*0.114)\n",
        "    gray_img2.append(row)\n",
        "    row = []"
      ]
    },
    {
      "cell_type": "code",
      "execution_count": null,
      "metadata": {
        "id": "FGsQhEYJ9qsR"
      },
      "outputs": [],
      "source": [
        "timings[1, 2] = _.average"
      ]
    },
    {
      "cell_type": "markdown",
      "metadata": {
        "id": "Fu05rADu9ylL"
      },
      "source": [
        "## 5.3."
      ]
    },
    {
      "cell_type": "code",
      "execution_count": null,
      "metadata": {
        "id": "LZRpRNFq9qsR",
        "outputId": "318ac7fa-a4d4-40cd-ff2d-42d01e19e912"
      },
      "outputs": [
        {
          "name": "stdout",
          "output_type": "stream",
          "text": [
            "179 µs ± 1.99 µs per loop (mean ± std. dev. of 7 runs, 10,000 loops each)\n"
          ]
        },
        {
          "data": {
            "text/plain": [
              "<TimeitResult : 179 µs ± 1.99 µs per loop (mean ± std. dev. of 7 runs, 10,000 loops each)>"
            ]
          },
          "execution_count": 43,
          "metadata": {},
          "output_type": "execute_result"
        }
      ],
      "source": [
        "%%timeit -o\n",
        "gray_img3 = np.zeros((a1.shape[0], a1.shape[1]))\n",
        "for i in range(a1.shape[0]):\n",
        "    gray_img3[i] = np.dot(a1[i,:,:3], [0.299, 0.587, 0.114])"
      ]
    },
    {
      "cell_type": "code",
      "execution_count": null,
      "metadata": {
        "id": "gzbXC7y59qsR"
      },
      "outputs": [],
      "source": [
        "timings[2, 0] = _.average"
      ]
    },
    {
      "cell_type": "code",
      "execution_count": null,
      "metadata": {
        "id": "RGlqGVOy9qsS",
        "outputId": "af4c6d4d-6304-4665-ed8f-46acdb3aae46"
      },
      "outputs": [
        {
          "name": "stdout",
          "output_type": "stream",
          "text": [
            "2.05 ms ± 11.2 µs per loop (mean ± std. dev. of 7 runs, 100 loops each)\n"
          ]
        },
        {
          "data": {
            "text/plain": [
              "<TimeitResult : 2.05 ms ± 11.2 µs per loop (mean ± std. dev. of 7 runs, 100 loops each)>"
            ]
          },
          "execution_count": 45,
          "metadata": {},
          "output_type": "execute_result"
        }
      ],
      "source": [
        "%%timeit -o\n",
        "gray_img3 = np.zeros((a2.shape[0], a2.shape[1]))\n",
        "for i in range(a2.shape[0]):\n",
        "    gray_img3[i] = np.dot(a2[i,:,:3], [0.299, 0.587, 0.114])"
      ]
    },
    {
      "cell_type": "code",
      "execution_count": null,
      "metadata": {
        "id": "vEBAzmIt9qsS"
      },
      "outputs": [],
      "source": [
        "timings[2, 1] = _.average"
      ]
    },
    {
      "cell_type": "code",
      "execution_count": null,
      "metadata": {
        "id": "eTtRfn2d9qsS",
        "outputId": "c06e6263-76be-4510-8489-0d08d4550114"
      },
      "outputs": [
        {
          "name": "stdout",
          "output_type": "stream",
          "text": [
            "46.5 ms ± 525 µs per loop (mean ± std. dev. of 7 runs, 10 loops each)\n"
          ]
        },
        {
          "data": {
            "text/plain": [
              "<TimeitResult : 46.5 ms ± 525 µs per loop (mean ± std. dev. of 7 runs, 10 loops each)>"
            ]
          },
          "execution_count": 47,
          "metadata": {},
          "output_type": "execute_result"
        }
      ],
      "source": [
        "%%timeit -o\n",
        "gray_img3 = np.zeros((a3.shape[0], a3.shape[1]))\n",
        "for i in range(a3.shape[0]):\n",
        "    gray_img3[i] = np.dot(a3[i,:,:3], [0.299, 0.587, 0.114])"
      ]
    },
    {
      "cell_type": "code",
      "execution_count": null,
      "metadata": {
        "id": "HtBaSFmI9qsT"
      },
      "outputs": [],
      "source": [
        "timings[2, 2] = _.average"
      ]
    },
    {
      "cell_type": "markdown",
      "metadata": {
        "id": "zODuqvc59qsT"
      },
      "source": [
        "## Графики времени выполнения"
      ]
    },
    {
      "cell_type": "code",
      "execution_count": null,
      "metadata": {
        "collapsed": true,
        "jupyter": {
          "outputs_hidden": true
        },
        "tags": [],
        "id": "MKtmJ3_19qsT",
        "outputId": "704264ca-2c1f-446c-a022-ee7a83c85450"
      },
      "outputs": [
        {
          "data": {
            "text/plain": [
              "array([[1.96500000e-05, 2.95057143e-04, 2.81100000e-02],\n",
              "       [9.02314286e-04, 8.97300000e-02, 8.96125714e+00],\n",
              "       [1.79485714e-04, 2.05028571e-03, 4.65414286e-02]])"
            ]
          },
          "execution_count": 49,
          "metadata": {},
          "output_type": "execute_result"
        }
      ],
      "source": [
        "timings"
      ]
    },
    {
      "cell_type": "code",
      "execution_count": null,
      "metadata": {
        "id": "5mdaXjGR9qsT",
        "outputId": "d074d965-fd67-4746-9c7a-8e6e972d61cf"
      },
      "outputs": [
        {
          "data": {
            "text/plain": [
              "<Figure size 640x480 with 0 Axes>"
            ]
          },
          "metadata": {},
          "output_type": "display_data"
        },
        {
          "data": {
            "image/png": "[encoded data removed]",
            "text/plain": [
              "<Figure size 1200x1000 with 3 Axes>"
            ]
          },
          "metadata": {},
          "output_type": "display_data"
        }
      ],
      "source": [
        "plt.figure()\n",
        "\n",
        "plt.figure(figsize=(12, 10))\n",
        "for category_num in range(1, 4):\n",
        "    plt.subplot(4, 4, category_num)\n",
        "    plt.bar(range(1, 4), timings[:, category_num-1])\n",
        "    plt.ylabel(\"Время выполнения, с\")\n",
        "    plt.xlabel(\"Способ выполнения\")\n",
        "    plt.title('Набор {}'.format(category_num))\n",
        "\n",
        "plt.tight_layout()\n",
        "plt.show()"
      ]
    },
    {
      "cell_type": "markdown",
      "metadata": {
        "id": "GexkjD2H9ylL"
      },
      "source": [
        "# 6.\n",
        "### Реализовать кодирование длин серий (Run-length encoding). Дан вектор x. Необходимо вернуть кортеж из двух векторов одинаковой длины. Первый содержит числа, а второй - сколько раз их нужно повторить.\n",
        "Пример: x = np.array([2, 2, 2, 3, 3, 3, 5, 2, 2]). Ответ: (np.array([2, 3, 5, 2]), np.array([3, 3, 1, 2]))."
      ]
    },
    {
      "cell_type": "code",
      "execution_count": null,
      "metadata": {
        "jupyter": {
          "source_hidden": true
        },
        "tags": [],
        "id": "hoILu_OD9qsU"
      },
      "outputs": [],
      "source": [
        "x = np.array([2, 2, 2, 3, 3, 3, 5, 2, 2])"
      ]
    },
    {
      "cell_type": "code",
      "execution_count": null,
      "metadata": {
        "id": "mvr9tijL9qsU"
      },
      "outputs": [],
      "source": [
        "x1 = np.random.randint(0, 2, 100)\n",
        "x2 = np.random.randint(0, 2, 1000)\n",
        "x3 = np.random.randint(0, 2, 10000)"
      ]
    },
    {
      "cell_type": "code",
      "execution_count": null,
      "metadata": {
        "id": "Hs0JurVm9qsU"
      },
      "outputs": [],
      "source": [
        "timings = np.zeros((3, 3))"
      ]
    },
    {
      "cell_type": "markdown",
      "metadata": {
        "id": "tevwXk6b9ylL",
        "tags": []
      },
      "source": [
        "## 6.1."
      ]
    },
    {
      "cell_type": "code",
      "execution_count": null,
      "metadata": {
        "tags": [],
        "id": "qfgqU_K59qsV",
        "outputId": "f5c7175a-3f09-41c3-b5bc-71fcd0546188"
      },
      "outputs": [
        {
          "name": "stdout",
          "output_type": "stream",
          "text": [
            "98.9 µs ± 773 ns per loop (mean ± std. dev. of 7 runs, 10,000 loops each)\n"
          ]
        },
        {
          "data": {
            "text/plain": [
              "<TimeitResult : 98.9 µs ± 773 ns per loop (mean ± std. dev. of 7 runs, 10,000 loops each)>"
            ]
          },
          "execution_count": 176,
          "metadata": {},
          "output_type": "execute_result"
        }
      ],
      "source": [
        "%%timeit -o\n",
        "# works with args >= 0\n",
        "new_x = np.append(x1, -1)\n",
        "new_x[np.where((np.diff(new_x) != 0))], np.diff(np.insert(np.where((np.diff(new_x) != 0)), 0, -1));"
      ]
    },
    {
      "cell_type": "code",
      "execution_count": null,
      "metadata": {
        "id": "aWhZ2Qgu9qsV"
      },
      "outputs": [],
      "source": [
        "timings[0, 0] = _.average"
      ]
    },
    {
      "cell_type": "code",
      "execution_count": null,
      "metadata": {
        "tags": [],
        "id": "6QAHM8gx9qsV",
        "outputId": "2c55a1d5-da4a-4d41-e739-a23197c79fa9"
      },
      "outputs": [
        {
          "name": "stdout",
          "output_type": "stream",
          "text": [
            "110 µs ± 960 ns per loop (mean ± std. dev. of 7 runs, 10,000 loops each)\n"
          ]
        },
        {
          "data": {
            "text/plain": [
              "<TimeitResult : 110 µs ± 960 ns per loop (mean ± std. dev. of 7 runs, 10,000 loops each)>"
            ]
          },
          "execution_count": 178,
          "metadata": {},
          "output_type": "execute_result"
        }
      ],
      "source": [
        "%%timeit -o\n",
        "# works with args >= 0\n",
        "new_x = np.append(x2, -1)\n",
        "new_x[np.where((np.diff(new_x) != 0))], np.diff(np.insert(np.where((np.diff(new_x) != 0)), 0, -1));"
      ]
    },
    {
      "cell_type": "code",
      "execution_count": null,
      "metadata": {
        "id": "xeP9L2bJ9qsY"
      },
      "outputs": [],
      "source": [
        "timings[0, 1] = _.average"
      ]
    },
    {
      "cell_type": "code",
      "execution_count": null,
      "metadata": {
        "tags": [],
        "id": "RKyKR4nx9qsY",
        "outputId": "2cf15549-7066-414f-f732-67dedda31c57"
      },
      "outputs": [
        {
          "name": "stdout",
          "output_type": "stream",
          "text": [
            "155 µs ± 1.04 µs per loop (mean ± std. dev. of 7 runs, 10,000 loops each)\n"
          ]
        },
        {
          "data": {
            "text/plain": [
              "<TimeitResult : 155 µs ± 1.04 µs per loop (mean ± std. dev. of 7 runs, 10,000 loops each)>"
            ]
          },
          "execution_count": 180,
          "metadata": {},
          "output_type": "execute_result"
        }
      ],
      "source": [
        "%%timeit -o\n",
        "# works with args >= 0\n",
        "new_x = np.append(x3, -1)\n",
        "new_x[np.where((np.diff(new_x) != 0))], np.diff(np.insert(np.where((np.diff(new_x) != 0)), 0, -1));"
      ]
    },
    {
      "cell_type": "code",
      "execution_count": null,
      "metadata": {
        "id": "witNUwxG9qsZ"
      },
      "outputs": [],
      "source": [
        "timings[0, 2] = _.average"
      ]
    },
    {
      "cell_type": "markdown",
      "metadata": {
        "id": "xDhiw8zA9qsZ"
      },
      "source": [
        "## 6.2."
      ]
    },
    {
      "cell_type": "code",
      "execution_count": null,
      "metadata": {
        "id": "NL60GYUZ9qsZ",
        "outputId": "4084cb41-a9eb-4b64-a7ef-23d85698286e"
      },
      "outputs": [
        {
          "name": "stdout",
          "output_type": "stream",
          "text": [
            "44.4 µs ± 734 ns per loop (mean ± std. dev. of 7 runs, 10,000 loops each)\n"
          ]
        },
        {
          "data": {
            "text/plain": [
              "<TimeitResult : 44.4 µs ± 734 ns per loop (mean ± std. dev. of 7 runs, 10,000 loops each)>"
            ]
          },
          "execution_count": 188,
          "metadata": {},
          "output_type": "execute_result"
        }
      ],
      "source": [
        "%%timeit -o\n",
        "res = ([], [])\n",
        "prev = x1[0]\n",
        "count = 0\n",
        "for i in x1:\n",
        "    if i == prev:\n",
        "        count += 1\n",
        "        continue\n",
        "    res[0].append(prev)\n",
        "    res[1].append(count)\n",
        "    count = 1\n",
        "    prev = i\n",
        "res[0].append(prev)\n",
        "res[1].append(count);"
      ]
    },
    {
      "cell_type": "code",
      "execution_count": null,
      "metadata": {
        "id": "j1f6k-349qsa"
      },
      "outputs": [],
      "source": [
        "timings[1, 0] = _.average"
      ]
    },
    {
      "cell_type": "code",
      "execution_count": null,
      "metadata": {
        "id": "P7DBF3-E9qsa",
        "outputId": "1e057911-8cd6-4d67-8399-15a5c6dca1ec"
      },
      "outputs": [
        {
          "name": "stdout",
          "output_type": "stream",
          "text": [
            "417 µs ± 5.59 µs per loop (mean ± std. dev. of 7 runs, 1,000 loops each)\n"
          ]
        },
        {
          "data": {
            "text/plain": [
              "<TimeitResult : 417 µs ± 5.59 µs per loop (mean ± std. dev. of 7 runs, 1,000 loops each)>"
            ]
          },
          "execution_count": 190,
          "metadata": {},
          "output_type": "execute_result"
        }
      ],
      "source": [
        "%%timeit -o\n",
        "res = ([], [])\n",
        "prev = x2[0]\n",
        "count = 0\n",
        "for i in x2:\n",
        "    if i == prev:\n",
        "        count += 1\n",
        "        continue\n",
        "    res[0].append(prev)\n",
        "    res[1].append(count)\n",
        "    count = 1\n",
        "    prev = i\n",
        "res[0].append(prev)\n",
        "res[1].append(count);"
      ]
    },
    {
      "cell_type": "code",
      "execution_count": null,
      "metadata": {
        "id": "1Uw866ji9qsa"
      },
      "outputs": [],
      "source": [
        "timings[1, 1] = _.average"
      ]
    },
    {
      "cell_type": "code",
      "execution_count": null,
      "metadata": {
        "id": "FVQyJz5A9qsa",
        "outputId": "346d407e-65fe-464f-aa10-d696fae50a83"
      },
      "outputs": [
        {
          "name": "stdout",
          "output_type": "stream",
          "text": [
            "4.27 ms ± 149 µs per loop (mean ± std. dev. of 7 runs, 100 loops each)\n"
          ]
        },
        {
          "data": {
            "text/plain": [
              "<TimeitResult : 4.27 ms ± 149 µs per loop (mean ± std. dev. of 7 runs, 100 loops each)>"
            ]
          },
          "execution_count": 192,
          "metadata": {},
          "output_type": "execute_result"
        }
      ],
      "source": [
        "%%timeit -o\n",
        "res = ([], [])\n",
        "prev = x3[0]\n",
        "count = 0\n",
        "for i in x3:\n",
        "    if i == prev:\n",
        "        count += 1\n",
        "        continue\n",
        "    res[0].append(prev)\n",
        "    res[1].append(count)\n",
        "    count = 1\n",
        "    prev = i\n",
        "res[0].append(prev)\n",
        "res[1].append(count);"
      ]
    },
    {
      "cell_type": "code",
      "execution_count": null,
      "metadata": {
        "id": "Da7iRmtt9qsa"
      },
      "outputs": [],
      "source": [
        "timings[1, 2] = _.average"
      ]
    },
    {
      "cell_type": "markdown",
      "metadata": {
        "id": "UBVMr6d_9qsa"
      },
      "source": [
        "## 6.3."
      ]
    },
    {
      "cell_type": "code",
      "execution_count": null,
      "metadata": {
        "id": "vRz9mtcT9qsa",
        "outputId": "59af58cb-0a5e-45cf-de03-508e07fff2c6"
      },
      "outputs": [
        {
          "name": "stdout",
          "output_type": "stream",
          "text": [
            "573 µs ± 6.42 µs per loop (mean ± std. dev. of 7 runs, 1,000 loops each)\n"
          ]
        },
        {
          "data": {
            "text/plain": [
              "<TimeitResult : 573 µs ± 6.42 µs per loop (mean ± std. dev. of 7 runs, 1,000 loops each)>"
            ]
          },
          "execution_count": 196,
          "metadata": {},
          "output_type": "execute_result"
        }
      ],
      "source": [
        "%%timeit -o\n",
        "res = np.array([], dtype=int)\n",
        "prev = x1[0]\n",
        "count = 0\n",
        "for i in x1:\n",
        "    if i == prev:\n",
        "        count += 1\n",
        "        continue\n",
        "    res = np.append(res, (prev, count))\n",
        "    count = 1\n",
        "    prev = i\n",
        "res = np.append(res, (prev, count))\n",
        "res[0::2], res[1::2]"
      ]
    },
    {
      "cell_type": "code",
      "execution_count": null,
      "metadata": {
        "id": "G7UII0sC9qsb"
      },
      "outputs": [],
      "source": [
        "timings[2, 0] = _.average"
      ]
    },
    {
      "cell_type": "code",
      "execution_count": null,
      "metadata": {
        "id": "aaRAyhUu9qsb",
        "outputId": "80da7f9c-dca8-4362-bf47-40e0b15ec0d4"
      },
      "outputs": [
        {
          "name": "stdout",
          "output_type": "stream",
          "text": [
            "6.08 ms ± 62.2 µs per loop (mean ± std. dev. of 7 runs, 100 loops each)\n"
          ]
        },
        {
          "data": {
            "text/plain": [
              "<TimeitResult : 6.08 ms ± 62.2 µs per loop (mean ± std. dev. of 7 runs, 100 loops each)>"
            ]
          },
          "execution_count": 198,
          "metadata": {},
          "output_type": "execute_result"
        }
      ],
      "source": [
        "%%timeit -o\n",
        "res = np.array([], dtype=int)\n",
        "prev = x2[0]\n",
        "count = 0\n",
        "for i in x2:\n",
        "    if i == prev:\n",
        "        count += 1\n",
        "        continue\n",
        "    res = np.append(res, (prev, count))\n",
        "    count = 1\n",
        "    prev = i\n",
        "res = np.append(res, (prev, count))\n",
        "res[0::2], res[1::2]"
      ]
    },
    {
      "cell_type": "code",
      "execution_count": null,
      "metadata": {
        "id": "__wfYFY_9qsb"
      },
      "outputs": [],
      "source": [
        "timings[2, 1] = _.average"
      ]
    },
    {
      "cell_type": "code",
      "execution_count": null,
      "metadata": {
        "id": "4vxQbVty9qsb",
        "outputId": "94af2c60-bcdd-4693-8691-9977c8e126ae"
      },
      "outputs": [
        {
          "name": "stdout",
          "output_type": "stream",
          "text": [
            "64.7 ms ± 1.01 ms per loop (mean ± std. dev. of 7 runs, 10 loops each)\n"
          ]
        },
        {
          "data": {
            "text/plain": [
              "<TimeitResult : 64.7 ms ± 1.01 ms per loop (mean ± std. dev. of 7 runs, 10 loops each)>"
            ]
          },
          "execution_count": 200,
          "metadata": {},
          "output_type": "execute_result"
        }
      ],
      "source": [
        "%%timeit -o\n",
        "res = np.array([], dtype=int)\n",
        "prev = x3[0]\n",
        "count = 0\n",
        "for i in x3:\n",
        "    if i == prev:\n",
        "        count += 1\n",
        "        continue\n",
        "    res = np.append(res, (prev, count))\n",
        "    count = 1\n",
        "    prev = i\n",
        "res = np.append(res, (prev, count))\n",
        "res[0::2], res[1::2]"
      ]
    },
    {
      "cell_type": "code",
      "execution_count": null,
      "metadata": {
        "id": "XS_bgKIo9qsb"
      },
      "outputs": [],
      "source": [
        "timings[2, 2] = _.average"
      ]
    },
    {
      "cell_type": "markdown",
      "metadata": {
        "id": "GafTF12f9qsc"
      },
      "source": [
        "## Графики времени выполнения"
      ]
    },
    {
      "cell_type": "code",
      "execution_count": null,
      "metadata": {
        "collapsed": true,
        "jupyter": {
          "outputs_hidden": true
        },
        "tags": [],
        "id": "wpirzM6U9qsc",
        "outputId": "3fe5980a-1d0e-446b-ce4e-5c45a12a2f68"
      },
      "outputs": [
        {
          "data": {
            "text/plain": [
              "array([[9.89157143e-05, 1.10084286e-04, 1.55022857e-04],\n",
              "       [4.43557143e-05, 4.17171429e-04, 4.27028571e-03],\n",
              "       [5.73028571e-04, 6.07714286e-03, 6.47057143e-02]])"
            ]
          },
          "execution_count": 202,
          "metadata": {},
          "output_type": "execute_result"
        }
      ],
      "source": [
        "timings"
      ]
    },
    {
      "cell_type": "code",
      "execution_count": null,
      "metadata": {
        "id": "IS31JHi19qsc",
        "outputId": "c44260af-4822-4296-ae9a-c477c8485822"
      },
      "outputs": [
        {
          "data": {
            "text/plain": [
              "<Figure size 640x480 with 0 Axes>"
            ]
          },
          "metadata": {},
          "output_type": "display_data"
        },
        {
          "data": {
            "image/png": "[encoded data removed]",
            "text/plain": [
              "<Figure size 1200x1000 with 3 Axes>"
            ]
          },
          "metadata": {},
          "output_type": "display_data"
        }
      ],
      "source": [
        "plt.figure()\n",
        "\n",
        "plt.figure(figsize=(12, 10))\n",
        "for category_num in range(1, 4):\n",
        "    plt.subplot(4, 4, category_num)\n",
        "    plt.bar(range(1, 4), timings[:, category_num-1])\n",
        "    plt.ylabel(\"Время выполнения, с\")\n",
        "    plt.xlabel(\"Способ выполнения\")\n",
        "    plt.title('Набор {}'.format(category_num))\n",
        "\n",
        "plt.tight_layout()\n",
        "plt.show()"
      ]
    },
    {
      "cell_type": "markdown",
      "metadata": {
        "id": "3OltkWsA9ylM"
      },
      "source": [
        "# 7.\n",
        "### Даны две выборки объектов - X и Y. Вычислить матрицу евклидовых расстояний между объектами. Сравнить с функцией scipy.spatial.distance.cdist."
      ]
    },
    {
      "cell_type": "code",
      "execution_count": null,
      "metadata": {
        "tags": [],
        "id": "GdGl-Cuw9qsd"
      },
      "outputs": [],
      "source": [
        "X1 = np.random.randint(0, 100, (100, 2))\n",
        "Y1 = np.random.randint(0, 100, (100, 2))\n",
        "\n",
        "X2 = np.random.randint(0, 100, (1000, 2))\n",
        "Y2 = np.random.randint(0, 100, (1000, 2))\n",
        "\n",
        "X3 = np.random.randint(0, 100, (10000, 2))\n",
        "Y3 = np.random.randint(0, 100, (10000, 2))"
      ]
    },
    {
      "cell_type": "code",
      "execution_count": null,
      "metadata": {
        "id": "_dunngMg9qsd"
      },
      "outputs": [],
      "source": [
        "timings = np.zeros((3, 3))"
      ]
    },
    {
      "cell_type": "markdown",
      "metadata": {
        "id": "OH1hIk5F9ylM"
      },
      "source": [
        "## 7.1."
      ]
    },
    {
      "cell_type": "code",
      "execution_count": null,
      "metadata": {
        "tags": [],
        "id": "Hns5iKxO9qsd",
        "outputId": "7a77578e-b673-4304-c4e0-746ae18a8731"
      },
      "outputs": [
        {
          "name": "stdout",
          "output_type": "stream",
          "text": [
            "22.2 µs ± 160 ns per loop (mean ± std. dev. of 7 runs, 10,000 loops each)\n"
          ]
        },
        {
          "data": {
            "text/plain": [
              "<TimeitResult : 22.2 µs ± 160 ns per loop (mean ± std. dev. of 7 runs, 10,000 loops each)>"
            ]
          },
          "execution_count": 4,
          "metadata": {},
          "output_type": "execute_result"
        }
      ],
      "source": [
        "%%timeit -o\n",
        "cdist(X1, Y1, 'euclidean');"
      ]
    },
    {
      "cell_type": "code",
      "execution_count": null,
      "metadata": {
        "id": "9zdEpzD29qse"
      },
      "outputs": [],
      "source": [
        "timings[0, 0] = _.average"
      ]
    },
    {
      "cell_type": "code",
      "execution_count": null,
      "metadata": {
        "tags": [],
        "id": "MLvD_M1Z9qse",
        "outputId": "8a791733-95c8-4286-a0b2-4775375e2edc"
      },
      "outputs": [
        {
          "name": "stdout",
          "output_type": "stream",
          "text": [
            "3.36 ms ± 194 µs per loop (mean ± std. dev. of 7 runs, 100 loops each)\n"
          ]
        },
        {
          "data": {
            "text/plain": [
              "<TimeitResult : 3.36 ms ± 194 µs per loop (mean ± std. dev. of 7 runs, 100 loops each)>"
            ]
          },
          "execution_count": 6,
          "metadata": {},
          "output_type": "execute_result"
        }
      ],
      "source": [
        "%%timeit -o\n",
        "cdist(X2, Y2, 'euclidean');"
      ]
    },
    {
      "cell_type": "code",
      "execution_count": null,
      "metadata": {
        "id": "003JYOWz9qse"
      },
      "outputs": [],
      "source": [
        "timings[0, 1] = _.average"
      ]
    },
    {
      "cell_type": "code",
      "execution_count": null,
      "metadata": {
        "tags": [],
        "id": "DpE7h5At9qse",
        "outputId": "e9cdf43d-a1c0-4c61-a622-680ea0e2ad2f"
      },
      "outputs": [
        {
          "name": "stdout",
          "output_type": "stream",
          "text": [
            "370 ms ± 2.64 ms per loop (mean ± std. dev. of 7 runs, 1 loop each)\n"
          ]
        },
        {
          "data": {
            "text/plain": [
              "<TimeitResult : 370 ms ± 2.64 ms per loop (mean ± std. dev. of 7 runs, 1 loop each)>"
            ]
          },
          "execution_count": 8,
          "metadata": {},
          "output_type": "execute_result"
        }
      ],
      "source": [
        "%%timeit -o\n",
        "cdist(X3, Y3, 'euclidean');"
      ]
    },
    {
      "cell_type": "code",
      "execution_count": null,
      "metadata": {
        "id": "r1Mth6wq9qse"
      },
      "outputs": [],
      "source": [
        "timings[0, 2] = _.average"
      ]
    },
    {
      "cell_type": "markdown",
      "metadata": {
        "id": "TT0qffr09qsf"
      },
      "source": [
        "## 7.2."
      ]
    },
    {
      "cell_type": "code",
      "execution_count": null,
      "metadata": {
        "id": "MnbijA6E9qsf"
      },
      "outputs": [],
      "source": [
        "def dist(a, b):\n",
        "    return ((a[0] - b[0])**2 + (a[1] - b[1])**2)**0.5"
      ]
    },
    {
      "cell_type": "code",
      "execution_count": null,
      "metadata": {
        "tags": [],
        "id": "3zZiCFEC9qsf",
        "outputId": "6a1d0da4-926d-48aa-d887-cf0a8e578f77"
      },
      "outputs": [
        {
          "name": "stdout",
          "output_type": "stream",
          "text": [
            "27.6 ms ± 335 µs per loop (mean ± std. dev. of 7 runs, 10 loops each)\n"
          ]
        },
        {
          "data": {
            "text/plain": [
              "<TimeitResult : 27.6 ms ± 335 µs per loop (mean ± std. dev. of 7 runs, 10 loops each)>"
            ]
          },
          "execution_count": 11,
          "metadata": {},
          "output_type": "execute_result"
        }
      ],
      "source": [
        "%%timeit -o\n",
        "distances2 = np.zeros((X1.shape[0], X1.shape[0]))\n",
        "for i in range(X1.shape[0]):\n",
        "    for j in range(X1.shape[0]):\n",
        "        distances2[i, j] = dist(X1[i], Y1[j])"
      ]
    },
    {
      "cell_type": "code",
      "execution_count": null,
      "metadata": {
        "id": "pKYoe2PI9qsf"
      },
      "outputs": [],
      "source": [
        "timings[1, 0] = _.average"
      ]
    },
    {
      "cell_type": "code",
      "execution_count": null,
      "metadata": {
        "tags": [],
        "id": "2HR9opyB9qsg",
        "outputId": "968e8fe4-93cc-4637-80c9-1e284ec1cf19"
      },
      "outputs": [
        {
          "name": "stdout",
          "output_type": "stream",
          "text": [
            "2.79 s ± 47.3 ms per loop (mean ± std. dev. of 7 runs, 1 loop each)\n"
          ]
        },
        {
          "data": {
            "text/plain": [
              "<TimeitResult : 2.79 s ± 47.3 ms per loop (mean ± std. dev. of 7 runs, 1 loop each)>"
            ]
          },
          "execution_count": 13,
          "metadata": {},
          "output_type": "execute_result"
        }
      ],
      "source": [
        "%%timeit -o\n",
        "distances2 = np.zeros((X2.shape[0], X2.shape[0]))\n",
        "for i in range(X2.shape[0]):\n",
        "    for j in range(X2.shape[0]):\n",
        "        distances2[i, j] = dist(X2[i], Y2[j])"
      ]
    },
    {
      "cell_type": "code",
      "execution_count": null,
      "metadata": {
        "id": "_PvGz1eJ9qsg"
      },
      "outputs": [],
      "source": [
        "timings[1, 1] = _.average"
      ]
    },
    {
      "cell_type": "code",
      "execution_count": null,
      "metadata": {
        "tags": [],
        "id": "Gk2Zns4o9qsg",
        "outputId": "69386a31-bcd1-449f-9695-1222c8efb57b"
      },
      "outputs": [
        {
          "name": "stdout",
          "output_type": "stream",
          "text": [
            "4min 40s ± 0 ns per loop (mean ± std. dev. of 1 run, 1 loop each)\n"
          ]
        },
        {
          "data": {
            "text/plain": [
              "<TimeitResult : 4min 40s ± 0 ns per loop (mean ± std. dev. of 1 run, 1 loop each)>"
            ]
          },
          "execution_count": 15,
          "metadata": {},
          "output_type": "execute_result"
        }
      ],
      "source": [
        "%%timeit -r 1 -o\n",
        "distances2 = np.zeros((X3.shape[0], X3.shape[0]))\n",
        "for i in range(X3.shape[0]):\n",
        "    for j in range(X3.shape[0]):\n",
        "        distances2[i, j] = dist(X3[i], Y3[j])"
      ]
    },
    {
      "cell_type": "code",
      "execution_count": null,
      "metadata": {
        "id": "ip0wTlSK9qsh"
      },
      "outputs": [],
      "source": [
        "timings[1, 2] = _.average"
      ]
    },
    {
      "cell_type": "markdown",
      "metadata": {
        "id": "pc_oNG7s9qsh"
      },
      "source": [
        "## 7.3."
      ]
    },
    {
      "cell_type": "code",
      "execution_count": null,
      "metadata": {
        "scrolled": true,
        "tags": [],
        "id": "s4qq_UYL9qsh",
        "outputId": "58659ac2-ee84-4447-9d14-ac820f7563bb"
      },
      "outputs": [
        {
          "name": "stdout",
          "output_type": "stream",
          "text": [
            "48.4 ms ± 874 µs per loop (mean ± std. dev. of 7 runs, 10 loops each)\n"
          ]
        },
        {
          "data": {
            "text/plain": [
              "<TimeitResult : 48.4 ms ± 874 µs per loop (mean ± std. dev. of 7 runs, 10 loops each)>"
            ]
          },
          "execution_count": 17,
          "metadata": {},
          "output_type": "execute_result"
        }
      ],
      "source": [
        "%%timeit -o\n",
        "distances3 = np.zeros((X1.shape[0], X1.shape[0]))\n",
        "for i in range(X1.shape[0]):\n",
        "    for j in range(X1.shape[0]):\n",
        "        distances3[i, j] = np.linalg.norm(X1[i]-Y1[j])"
      ]
    },
    {
      "cell_type": "code",
      "execution_count": null,
      "metadata": {
        "id": "RLvXbzUy9qsi"
      },
      "outputs": [],
      "source": [
        "timings[2, 0] = _.average"
      ]
    },
    {
      "cell_type": "code",
      "execution_count": null,
      "metadata": {
        "tags": [],
        "id": "qPZ0_Auc9qsj",
        "outputId": "965f30a4-149c-4ccd-fc9f-20fac2b7800e"
      },
      "outputs": [
        {
          "name": "stdout",
          "output_type": "stream",
          "text": [
            "4.75 s ± 48.9 ms per loop (mean ± std. dev. of 7 runs, 1 loop each)\n"
          ]
        },
        {
          "data": {
            "text/plain": [
              "<TimeitResult : 4.75 s ± 48.9 ms per loop (mean ± std. dev. of 7 runs, 1 loop each)>"
            ]
          },
          "execution_count": 19,
          "metadata": {},
          "output_type": "execute_result"
        }
      ],
      "source": [
        "%%timeit -o\n",
        "distances3 = np.zeros((X2.shape[0], X2.shape[0]))\n",
        "for i in range(X2.shape[0]):\n",
        "    for j in range(X2.shape[0]):\n",
        "        distances3[i, j] = np.linalg.norm(X2[i]-Y2[j])"
      ]
    },
    {
      "cell_type": "code",
      "execution_count": null,
      "metadata": {
        "id": "VdoMcZbg9qsj"
      },
      "outputs": [],
      "source": [
        "timings[2, 1] = _.average"
      ]
    },
    {
      "cell_type": "code",
      "execution_count": null,
      "metadata": {
        "tags": [],
        "id": "S0JaO2Zr9qsj",
        "outputId": "2efc5f31-00d3-491a-d184-916ec19fd53e"
      },
      "outputs": [
        {
          "name": "stdout",
          "output_type": "stream",
          "text": [
            "7min 53s ± 0 ns per loop (mean ± std. dev. of 1 run, 1 loop each)\n"
          ]
        },
        {
          "data": {
            "text/plain": [
              "<TimeitResult : 7min 53s ± 0 ns per loop (mean ± std. dev. of 1 run, 1 loop each)>"
            ]
          },
          "execution_count": 21,
          "metadata": {},
          "output_type": "execute_result"
        }
      ],
      "source": [
        "%%timeit -r 1 -o\n",
        "distances3 = np.zeros((X3.shape[0], X3.shape[0]))\n",
        "for i in range(X3.shape[0]):\n",
        "    for j in range(X3.shape[0]):\n",
        "        distances3[i, j] = np.linalg.norm(X3[i]-Y3[j])"
      ]
    },
    {
      "cell_type": "code",
      "execution_count": null,
      "metadata": {
        "id": "iTG9QyvV9qsk"
      },
      "outputs": [],
      "source": [
        "timings[2, 2] = _.average"
      ]
    },
    {
      "cell_type": "markdown",
      "metadata": {
        "id": "Zvg_G9KV9qsk"
      },
      "source": [
        "## Графики времени выполнения"
      ]
    },
    {
      "cell_type": "code",
      "execution_count": null,
      "metadata": {
        "tags": [],
        "id": "X-jQ57SO9qsk",
        "outputId": "fd76fa86-273f-4577-fb2d-eeadb861d40a"
      },
      "outputs": [
        {
          "data": {
            "text/plain": [
              "array([[2.22442571e-05, 3.36349157e-03, 3.69653743e-01],\n",
              "       [2.75808800e-02, 2.79336203e+00, 2.80407963e+02],\n",
              "       [4.83808486e-02, 4.75477801e+00, 4.73390798e+02]])"
            ]
          },
          "execution_count": 23,
          "metadata": {},
          "output_type": "execute_result"
        }
      ],
      "source": [
        "timings"
      ]
    },
    {
      "cell_type": "code",
      "execution_count": null,
      "metadata": {
        "id": "ZdE2C2XR9qsk",
        "outputId": "c50d3489-e5b4-4378-c209-7acc0549962c"
      },
      "outputs": [
        {
          "data": {
            "text/plain": [
              "<Figure size 640x480 with 0 Axes>"
            ]
          },
          "metadata": {},
          "output_type": "display_data"
        },
        {
          "data": {
            "image/png": "[encoded data removed]",
            "text/plain": [
              "<Figure size 1200x1000 with 3 Axes>"
            ]
          },
          "metadata": {},
          "output_type": "display_data"
        }
      ],
      "source": [
        "plt.figure()\n",
        "\n",
        "plt.figure(figsize=(12, 10))\n",
        "for category_num in range(1, 4):\n",
        "    plt.subplot(4, 4, category_num)\n",
        "    plt.bar(range(1, 4), timings[:, category_num-1])\n",
        "    plt.ylabel(\"Время выполнения, с\")\n",
        "    plt.xlabel(\"Способ выполнения\")\n",
        "    plt.title('Набор {}'.format(category_num))\n",
        "\n",
        "plt.tight_layout()\n",
        "plt.show()"
      ]
    },
    {
      "cell_type": "markdown",
      "metadata": {
        "id": "MRefHagk9qsl"
      },
      "source": [
        "# Вывод"
      ]
    },
    {
      "cell_type": "markdown",
      "metadata": {
        "id": "utG8_sRr9qsl"
      },
      "source": [
        "### Библиотека numpy работает гораздо быстрее, чем встроенные функции Python. В частности, стоит избегать использования python циклов, где это возможно."
      ]
    }
  ],
  "metadata": {
    "colab": {
      "provenance": [],
      "toc_visible": true
    },
    "kernelspec": {
      "display_name": "Python 3 (ipykernel)",
      "language": "python",
      "name": "python3"
    },
    "language_info": {
      "codemirror_mode": {
        "name": "ipython",
        "version": 3
      },
      "file_extension": ".py",
      "mimetype": "text/x-python",
      "name": "python",
      "nbconvert_exporter": "python",
      "pygments_lexer": "ipython3",
      "version": "3.9.7"
    }
  },
  "nbformat": 4,
  "nbformat_minor": 0
}